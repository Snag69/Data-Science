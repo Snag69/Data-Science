{
 "cells": [
  {
   "cell_type": "code",
   "execution_count": 1,
   "metadata": {},
   "outputs": [],
   "source": [
    "import random\n",
    "import requests\n",
    "from bs4 import BeautifulSoup\n",
    "from concurrent.futures import ThreadPoolExecutor, as_completed\n",
    "\n",
    "base_url = 'https://www.metacritic.com'\n",
    "user_agents = [\n",
    "    'Mozilla/5.0 (Windows NT 10.0; Win64; x64) AppleWebKit/537.36 (KHTML, like Gecko) Chrome/130.0.0.0 Safari/537.36',\n",
    "    'Mozilla/5.0 (Windows NT 10.0; Win64; x64) AppleWebKit/537.36 (KHTML, like Gecko) Chrome/129.0.0.0 Safari/537.36',\n",
    "    'Mozilla/5.0 (Macintosh; Intel Mac OS X 10_15_7) AppleWebKit/537.36 (KHTML, like Gecko) Chrome/129.0.0.0 Safari/537.36',\n",
    "    'Mozilla/5.0 (Macintosh; Intel Mac OS X 10_15_7) AppleWebKit/537.36 (KHTML, like Gecko) Chrome/130.0.0.0 Safari/537.36',\n",
    "    'Mozilla/5.0 (Windows NT 10.0; Win64; x64; rv:131.0) Gecko/20100101 Firefox/131.0',\n",
    "    'Mozilla/5.0 (Windows NT 10.0; Win64; x64) AppleWebKit/537.36 (KHTML, like Gecko) Chrome/130.0.0.0 Safari/537.36 Edg/130.0.0.0',\n",
    "    'Mozilla/5.0 (Windows NT 10.0; Win64; x64; rv:132.0) Gecko/20100101 Firefox/132.0',\n",
    "    'Mozilla/5.0 (Macintosh; Intel Mac OS X 10.15; rv:131.0) Gecko/20100101 Firefox/131.0',\n",
    "    'Mozilla/5.0 (X11; Linux x86_64; rv:131.0) Gecko/20100101 Firefox/131.0',\n",
    "    'Mozilla/5.0 (X11; Linux x86_64) AppleWebKit/537.36 (KHTML, like Gecko) Chrome/130.0.0.0 Safari/537.36'\n",
    "]"
   ]
  },
  {
   "cell_type": "code",
   "execution_count": null,
   "metadata": {},
   "outputs": [],
   "source": [
    "def get_total_pages(url):\n",
    "    response = requests.get(url, headers={'User-Agent': random.choice(user_agents)})\n",
    "    if response.status_code != 200:\n",
    "        print('Failed to fetch the page:', url)\n",
    "        return None\n",
    "    soup = BeautifulSoup(response.text, 'html.parser')\n",
    "    pagination_div = soup.find('div', {'data-testid': 'navigation-pagination'})\n",
    "    return pagination_div.find_all('span', class_='c-navigationPagination_itemButtonContent')[-2].text.strip()\n",
    "\n",
    "def fetch_links_from_page(url, page):\n",
    "    page_url = f'{url}&page={page}'\n",
    "    response = requests.get(page_url, headers={'User-Agent': random.choice(user_agents)})\n",
    "    if response.status_code != 200:\n",
    "        print('Failed to fetch the page:', page_url)\n",
    "        return []\n",
    "    soup = BeautifulSoup(response.text, 'html.parser')\n",
    "    _links = [div.find('a')['href'] for div in soup.find_all('div', {'data-testid': 'filter-results'})]\n",
    "    return [base_url + link for link in _links]\n",
    "\n",
    "def get_show_links(url, total_pages):\n",
    "    links = []\n",
    "    with ThreadPoolExecutor(max_workers = 10) as executor:\n",
    "        future_to_page = {executor.submit(fetch_links_from_page, url, page): page for page in range(1, int(total_pages)+1)}\n",
    "        for future in as_completed(future_to_page):\n",
    "            page = future_to_page[future]\n",
    "            try:\n",
    "                page_links = future.result()\n",
    "                links.extend(page_links)\n",
    "            except Exception as exc:\n",
    "                print(f'Page {page} generated an exception: {exc}')\n",
    "    return links"
   ]
  },
  {
   "cell_type": "code",
   "execution_count": 10,
   "metadata": {},
   "outputs": [
    {
     "name": "stdout",
     "output_type": "stream",
     "text": [
      "Total pages: 131\n",
      "Total links: 3138\n",
      "Links saved to metacritic_links.txt\n"
     ]
    }
   ],
   "source": [
    "url = f'{base_url}/browse/tv'\n",
    "total_pages = get_total_pages(url)\n",
    "print('Total pages:', total_pages)\n",
    "\n",
    "url = f'{base_url}/browse/tv?releaseYearMin=1910&releaseYearMax=2024'\n",
    "links = get_show_links(url, total_pages)\n",
    "print(\"Total links:\", len(links))\n",
    "\n",
    "filename = 'metacritic_links.txt'\n",
    "with open(filename, 'w') as f:\n",
    "    f.write(\"\\n\".join(links))\n",
    "print(\"Links saved to\", filename)"
   ]
  }
 ],
 "metadata": {
  "kernelspec": {
   "display_name": "Python 3",
   "language": "python",
   "name": "python3"
  },
  "language_info": {
   "codemirror_mode": {
    "name": "ipython",
    "version": 3
   },
   "file_extension": ".py",
   "mimetype": "text/x-python",
   "name": "python",
   "nbconvert_exporter": "python",
   "pygments_lexer": "ipython3",
   "version": "3.12.0"
  }
 },
 "nbformat": 4,
 "nbformat_minor": 2
}
