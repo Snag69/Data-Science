{
 "cells": [
  {
   "cell_type": "code",
   "execution_count": null,
   "metadata": {},
   "outputs": [],
   "source": [
    "import time\n",
    "from selenium import webdriver\n",
    "from selenium.common import exceptions\n",
    "from selenium.webdriver.common.by import By\n",
    "from selenium.webdriver.chrome.service import Service\n",
    "\n",
    "base_url = 'https://www.imdb.com'\n",
    "chrome_driver_path = r\"D:\\NMKHDL\\DATA-SCIENCE\\data-collection\\chromedriver.exe\""
   ]
  },
  {
   "cell_type": "code",
   "execution_count": 6,
   "metadata": {},
   "outputs": [],
   "source": [
    "def load_all_shows(driver, pause_time = 1, max_failures = 3):\n",
    "    scroll_count = 0\n",
    "    fail_count = 0\n",
    "    while fail_count < max_failures:\n",
    "        try:\n",
    "            button = driver.find_element(By.XPATH, '//button[contains(@class, \"ipc-see-more__button\")]')\n",
    "            driver.execute_script(\"arguments[0].click();\", button)\n",
    "            scroll_count += 1\n",
    "            time.sleep(pause_time)\n",
    "            fail_count = 0\n",
    "        except exceptions.NoSuchElementException:\n",
    "            fail_count += 1\n",
    "            time.sleep(pause_time)\n",
    "        except exceptions.ElementClickInterceptedException:\n",
    "            print(\"Scroll or element interaction issue. Retrying...\")\n",
    "            time.sleep(pause_time)\n",
    "    return scroll_count\n",
    "\n",
    "def get_show_links(driver):\n",
    "    try:\n",
    "        links = driver.find_elements(By.XPATH, '//li[contains(@class, \"ipc-metadata-list-summary-item\")]')\n",
    "        return [link.find_element(By.TAG_NAME, 'a').get_attribute('href') for link in links]\n",
    "    except exceptions.NoSuchElementException:\n",
    "        print(\"No show links found.\")\n",
    "        return []"
   ]
  },
  {
   "cell_type": "code",
   "execution_count": 7,
   "metadata": {},
   "outputs": [
    {
     "name": "stdout",
     "output_type": "stream",
     "text": [
      "Total scrolls: 23\n",
      "Total links: 1138\n",
      "Links saved to imdb_links.txt\n"
     ]
    }
   ],
   "source": [
    "url = f'{base_url}/search/title/?title_type=tv_series,tv_miniseries&num_votes=25000,&sort=user_rating,desc'\n",
    "service = Service(chrome_driver_path)\n",
    "driver = webdriver.Chrome(service=service)\n",
    "driver.get(url)\n",
    "\n",
    "total_scrolls = load_all_shows(driver)\n",
    "print(\"Total scrolls:\", total_scrolls)\n",
    "\n",
    "links = get_show_links(driver)\n",
    "print(\"Total links:\", len(links))\n",
    "\n",
    "filename = 'imdb_links.txt'\n",
    "with open(filename, 'w') as f:\n",
    "    f.write(\"\\n\".join(links))\n",
    "print(\"Links saved to\", filename)\n",
    "\n",
    "driver.quit()"
   ]
  }
 ],
 "metadata": {
  "kernelspec": {
   "display_name": "Python 3",
   "language": "python",
   "name": "python3"
  },
  "language_info": {
   "codemirror_mode": {
    "name": "ipython",
    "version": 3
   },
   "file_extension": ".py",
   "mimetype": "text/x-python",
   "name": "python",
   "nbconvert_exporter": "python",
   "pygments_lexer": "ipython3",
   "version": "3.12.0"
  }
 },
 "nbformat": 4,
 "nbformat_minor": 2
}
