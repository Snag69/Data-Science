{
 "cells": [
  {
   "cell_type": "markdown",
   "metadata": {},
   "source": [
    "# 2. Data Exploration"
   ]
  },
  {
   "cell_type": "markdown",
   "metadata": {},
   "source": [
    "## 2.0. Import Necessary Libraries"
   ]
  },
  {
   "cell_type": "code",
   "execution_count": 1,
   "metadata": {},
   "outputs": [],
   "source": [
    "import numpy as np\n",
    "import pandas as pd\n",
    "import matplotlib.pyplot as plt\n",
    "import seaborn as sns"
   ]
  },
  {
   "cell_type": "markdown",
   "metadata": {},
   "source": [
    "This section imports the essential Python libraries required for data analysis, visualization, and statistical exploration. Each library serves a specific purpose:\n",
    "\n",
    "- **NumPy (np)**: Provides support for multi-dimensional arrays and a wide range of mathematical operations, facilitating efficient numerical computations.\n",
    "- **Pandas (pd)**: A powerful data manipulation library used for loading, cleaning, and analyzing structured data through its **DataFrame** and **Series** objects.\n",
    "- **Matplotlib (plt)**: A versatile library for creating static, interactive, and animated visualizations, primarily used for plotting data in 2D.\n",
    "- **Seaborn (sns)**: Built on top of Matplotlib, this library simplifies the creation of visually appealing and informative statistical graphics, offering a high-level interface for data visualization.\n",
    "\n",
    "These libraries together enable efficient data processing and insightful visual representations to support data-driven decision-making."
   ]
  },
  {
   "cell_type": "markdown",
   "metadata": {},
   "source": [
    "## 2.1. Read data"
   ]
  },
  {
   "cell_type": "code",
   "execution_count": 2,
   "metadata": {},
   "outputs": [],
   "source": [
    "data_path = './data/tvshows_raw.csv'\n",
    "df = pd.read_csv(data_path)"
   ]
  },
  {
   "cell_type": "markdown",
   "metadata": {},
   "source": [
    "In this section, we use the **Pandas** library to read data from a CSV file containing information about automobiles. \n",
    "\n",
    "- First, the file path is stored in the variable `data_path`.\n",
    "- Then, the `pd.read_csv()` function is called to load the data from the file and convert it into a **DataFrame** object, which allows for easier manipulation, analysis, and visualization of the data.\n",
    "- The `df` variable holds the loaded dataset, which can be used for further processing in the subsequent steps of the analysis.\n",
    "\n",
    "This approach simplifies data handling and prepares the dataset for deeper exploration and analysis."
   ]
  },
  {
   "cell_type": "markdown",
   "metadata": {},
   "source": [
    "## 2.2. How many rows and how many columns?"
   ]
  },
  {
   "cell_type": "code",
   "execution_count": 3,
   "metadata": {},
   "outputs": [
    {
     "name": "stdout",
     "output_type": "stream",
     "text": [
      "Number of Row:  1138\n",
      "Number of Column:  14\n"
     ]
    }
   ],
   "source": [
    "row, col = df.shape\n",
    "print(\"Number of Row: \", row)\n",
    "print(\"Number of Column: \", col)"
   ]
  },
  {
   "cell_type": "markdown",
   "metadata": {},
   "source": [
    "The dataset contains **1138 rows** and **14 columns**. This indicates that there are **1138 entries** or **records** in the dataset, each corresponding to a different **TV show**. The **14 columns** represent various attributes of these TV shows, which might include information such as **title**, **release year**, **rating**, **runtime**, **cast**, **genres**, and **production companies**.\n",
    "\n",
    "With this structure, the dataset provides a **rich set of features** for each TV show, offering sufficient data for **comprehensive analysis** and **insight generation**. The relatively large number of rows suggests that the dataset is **adequate** for identifying patterns, trends, and relationships that can provide valuable insights into the performance of TV shows across different platforms and genres."
   ]
  },
  {
   "cell_type": "markdown",
   "metadata": {},
   "source": [
    "## 2.3. What is the meaning of each row?"
   ]
  },
  {
   "cell_type": "code",
   "execution_count": 4,
   "metadata": {},
   "outputs": [
    {
     "data": {
      "text/html": [
       "<div>\n",
       "<style scoped>\n",
       "    .dataframe tbody tr th:only-of-type {\n",
       "        vertical-align: middle;\n",
       "    }\n",
       "\n",
       "    .dataframe tbody tr th {\n",
       "        vertical-align: top;\n",
       "    }\n",
       "\n",
       "    .dataframe thead th {\n",
       "        text-align: right;\n",
       "    }\n",
       "</style>\n",
       "<table border=\"1\" class=\"dataframe\">\n",
       "  <thead>\n",
       "    <tr style=\"text-align: right;\">\n",
       "      <th></th>\n",
       "      <th>Title</th>\n",
       "      <th>Years</th>\n",
       "      <th>Certification</th>\n",
       "      <th>Runtime</th>\n",
       "      <th>Rating</th>\n",
       "      <th>Number of Votes</th>\n",
       "      <th>Emmys</th>\n",
       "      <th>Creators</th>\n",
       "      <th>Actors</th>\n",
       "      <th>Genres</th>\n",
       "      <th>Coutries of origins</th>\n",
       "      <th>Languages</th>\n",
       "      <th>Production companies</th>\n",
       "      <th>Link</th>\n",
       "    </tr>\n",
       "  </thead>\n",
       "  <tbody>\n",
       "    <tr>\n",
       "      <th>0</th>\n",
       "      <td>Queen Cleopatra</td>\n",
       "      <td>2023</td>\n",
       "      <td>TV-14</td>\n",
       "      <td>45m</td>\n",
       "      <td>1.2</td>\n",
       "      <td>86K</td>\n",
       "      <td>0</td>\n",
       "      <td>NaN</td>\n",
       "      <td>Jada Pinkett Smith, Adele James, Craig Russell...</td>\n",
       "      <td>Documentary, Drama, History</td>\n",
       "      <td>United Kingdom</td>\n",
       "      <td>English</td>\n",
       "      <td>Nutopia</td>\n",
       "      <td>https://www.imdb.com/title/tt27528139/?ref_=sr...</td>\n",
       "    </tr>\n",
       "    <tr>\n",
       "      <th>1</th>\n",
       "      <td>Velma</td>\n",
       "      <td>2023–2024</td>\n",
       "      <td>TV-MA</td>\n",
       "      <td>25m</td>\n",
       "      <td>1.6</td>\n",
       "      <td>80K</td>\n",
       "      <td>0</td>\n",
       "      <td>Charlie Grandy</td>\n",
       "      <td>Mindy Kaling, Glenn Howerton, Sam Richardson, ...</td>\n",
       "      <td>Animation, Adventure, Comedy, Crime, Horror, M...</td>\n",
       "      <td>United States, South Korea</td>\n",
       "      <td>English</td>\n",
       "      <td>Charlie Grandy Productions, Kaling Internation...</td>\n",
       "      <td>https://www.imdb.com/title/tt14153790/?ref_=sr...</td>\n",
       "    </tr>\n",
       "    <tr>\n",
       "      <th>2</th>\n",
       "      <td>Keeping Up with the Kardashians</td>\n",
       "      <td>2007–2021</td>\n",
       "      <td>TV-14</td>\n",
       "      <td>44m</td>\n",
       "      <td>2.9</td>\n",
       "      <td>32K</td>\n",
       "      <td>0</td>\n",
       "      <td>Ryan Seacrest, Eliot Goldberg</td>\n",
       "      <td>Khloé Kardashian, Kim Kardashian, Kourtney Kar...</td>\n",
       "      <td>Family, Reality-TV</td>\n",
       "      <td>United States</td>\n",
       "      <td>English, Spanish</td>\n",
       "      <td>Bunim-Murray Productions (BMP), Ryan Seacrest ...</td>\n",
       "      <td>https://www.imdb.com/title/tt1086761/?ref_=sr_...</td>\n",
       "    </tr>\n",
       "    <tr>\n",
       "      <th>3</th>\n",
       "      <td>Batwoman</td>\n",
       "      <td>2019–2022</td>\n",
       "      <td>TV-14</td>\n",
       "      <td>45m</td>\n",
       "      <td>3.6</td>\n",
       "      <td>47K</td>\n",
       "      <td>0</td>\n",
       "      <td>Caroline Dries</td>\n",
       "      <td>Camrus Johnson, Rachel Skarsten, Meagan Tandy,...</td>\n",
       "      <td>Action, Adventure, Crime, Drama, Sci-Fi</td>\n",
       "      <td>United States</td>\n",
       "      <td>English</td>\n",
       "      <td>Berlanti Productions, DC Entertainment, Warner...</td>\n",
       "      <td>https://www.imdb.com/title/tt8712204/?ref_=sr_...</td>\n",
       "    </tr>\n",
       "    <tr>\n",
       "      <th>4</th>\n",
       "      <td>The Acolyte</td>\n",
       "      <td>2024</td>\n",
       "      <td>TV-14</td>\n",
       "      <td>35m</td>\n",
       "      <td>4.1</td>\n",
       "      <td>125K</td>\n",
       "      <td>0</td>\n",
       "      <td>Leslye Headland</td>\n",
       "      <td>Lee Jung-jae, Amandla Stenberg, Manny Jacinto,...</td>\n",
       "      <td>Action, Adventure, Drama, Fantasy, Mystery, Sc...</td>\n",
       "      <td>United States</td>\n",
       "      <td>English</td>\n",
       "      <td>Lucasfilm, Disney+, The Walt Disney Company</td>\n",
       "      <td>https://www.imdb.com/title/tt12262202/?ref_=sr...</td>\n",
       "    </tr>\n",
       "  </tbody>\n",
       "</table>\n",
       "</div>"
      ],
      "text/plain": [
       "                             Title      Years Certification Runtime  Rating  \\\n",
       "0                  Queen Cleopatra       2023         TV-14     45m     1.2   \n",
       "1                            Velma  2023–2024         TV-MA     25m     1.6   \n",
       "2  Keeping Up with the Kardashians  2007–2021         TV-14     44m     2.9   \n",
       "3                         Batwoman  2019–2022         TV-14     45m     3.6   \n",
       "4                      The Acolyte       2024         TV-14     35m     4.1   \n",
       "\n",
       "  Number of Votes  Emmys                       Creators  \\\n",
       "0             86K      0                            NaN   \n",
       "1             80K      0                 Charlie Grandy   \n",
       "2             32K      0  Ryan Seacrest, Eliot Goldberg   \n",
       "3             47K      0                 Caroline Dries   \n",
       "4            125K      0                Leslye Headland   \n",
       "\n",
       "                                              Actors  \\\n",
       "0  Jada Pinkett Smith, Adele James, Craig Russell...   \n",
       "1  Mindy Kaling, Glenn Howerton, Sam Richardson, ...   \n",
       "2  Khloé Kardashian, Kim Kardashian, Kourtney Kar...   \n",
       "3  Camrus Johnson, Rachel Skarsten, Meagan Tandy,...   \n",
       "4  Lee Jung-jae, Amandla Stenberg, Manny Jacinto,...   \n",
       "\n",
       "                                              Genres  \\\n",
       "0                        Documentary, Drama, History   \n",
       "1  Animation, Adventure, Comedy, Crime, Horror, M...   \n",
       "2                                 Family, Reality-TV   \n",
       "3            Action, Adventure, Crime, Drama, Sci-Fi   \n",
       "4  Action, Adventure, Drama, Fantasy, Mystery, Sc...   \n",
       "\n",
       "          Coutries of origins         Languages  \\\n",
       "0              United Kingdom           English   \n",
       "1  United States, South Korea           English   \n",
       "2               United States  English, Spanish   \n",
       "3               United States           English   \n",
       "4               United States           English   \n",
       "\n",
       "                                Production companies  \\\n",
       "0                                            Nutopia   \n",
       "1  Charlie Grandy Productions, Kaling Internation...   \n",
       "2  Bunim-Murray Productions (BMP), Ryan Seacrest ...   \n",
       "3  Berlanti Productions, DC Entertainment, Warner...   \n",
       "4        Lucasfilm, Disney+, The Walt Disney Company   \n",
       "\n",
       "                                                Link  \n",
       "0  https://www.imdb.com/title/tt27528139/?ref_=sr...  \n",
       "1  https://www.imdb.com/title/tt14153790/?ref_=sr...  \n",
       "2  https://www.imdb.com/title/tt1086761/?ref_=sr_...  \n",
       "3  https://www.imdb.com/title/tt8712204/?ref_=sr_...  \n",
       "4  https://www.imdb.com/title/tt12262202/?ref_=sr...  "
      ]
     },
     "execution_count": 4,
     "metadata": {},
     "output_type": "execute_result"
    }
   ],
   "source": [
    "df.head()"
   ]
  },
  {
   "cell_type": "markdown",
   "metadata": {},
   "source": [
    "Each **row** in the dataset represents the **information of a specific TV show**. Each row contains a set of **attributes** related to that particular show, which describe its **performance**, **genre**, **cast**, **rating**, **runtime**, **production companies**, and more. These rows collectively provide a **detailed profile** for every TV show, allowing for **comparisons** across different shows based on various features such as **rating**, **viewership**, **genre**, and **production company**.\n",
    "\n",
    "Essentially, every row captures the **key data** for an individual TV show, and this **structured representation** helps in understanding **patterns**, **trends**, and **relationships** within the dataset. By examining the rows, we can analyze how different TV shows vary based on their **attributes** and make **informed decisions** or **predictions** about the factors influencing their performance or success."
   ]
  },
  {
   "cell_type": "markdown",
   "metadata": {},
   "source": [
    "## 2.4. Are there duplicated rows?"
   ]
  },
  {
   "cell_type": "code",
   "execution_count": 5,
   "metadata": {},
   "outputs": [
    {
     "data": {
      "text/html": [
       "<div>\n",
       "<style scoped>\n",
       "    .dataframe tbody tr th:only-of-type {\n",
       "        vertical-align: middle;\n",
       "    }\n",
       "\n",
       "    .dataframe tbody tr th {\n",
       "        vertical-align: top;\n",
       "    }\n",
       "\n",
       "    .dataframe thead th {\n",
       "        text-align: right;\n",
       "    }\n",
       "</style>\n",
       "<table border=\"1\" class=\"dataframe\">\n",
       "  <thead>\n",
       "    <tr style=\"text-align: right;\">\n",
       "      <th></th>\n",
       "      <th>Title</th>\n",
       "      <th>Years</th>\n",
       "      <th>Certification</th>\n",
       "      <th>Runtime</th>\n",
       "      <th>Rating</th>\n",
       "      <th>Number of Votes</th>\n",
       "      <th>Emmys</th>\n",
       "      <th>Creators</th>\n",
       "      <th>Actors</th>\n",
       "      <th>Genres</th>\n",
       "      <th>Coutries of origins</th>\n",
       "      <th>Languages</th>\n",
       "      <th>Production companies</th>\n",
       "      <th>Link</th>\n",
       "    </tr>\n",
       "  </thead>\n",
       "  <tbody>\n",
       "  </tbody>\n",
       "</table>\n",
       "</div>"
      ],
      "text/plain": [
       "Empty DataFrame\n",
       "Columns: [Title, Years, Certification, Runtime, Rating, Number of Votes, Emmys, Creators, Actors, Genres, Coutries of origins, Languages, Production companies, Link]\n",
       "Index: []"
      ]
     },
     "execution_count": 5,
     "metadata": {},
     "output_type": "execute_result"
    }
   ],
   "source": [
    "df[df.duplicated(keep=False)]"
   ]
  },
  {
   "cell_type": "markdown",
   "metadata": {},
   "source": [
    "Upon checking the dataset for **duplicated rows** using the command `df[df.duplicated(keep=False)]`, it is observed that there are **no duplicated rows** present. This means that each **entry** in the dataset is **unique**, which is a good sign as it ensures that there is no **redundancy** in the data.\n",
    "\n",
    "The **absence of duplicate rows** is important because it prevents potential **biases** or **errors** that could arise from analyzing repeated data. It suggests that the data has been **properly collected** and **cleaned**, making it suitable for further **analysis** and **modeling** without the need for **data cleansing** regarding duplicates."
   ]
  }
 ],
 "metadata": {
  "kernelspec": {
   "display_name": "Python 3",
   "language": "python",
   "name": "python3"
  },
  "language_info": {
   "codemirror_mode": {
    "name": "ipython",
    "version": 3
   },
   "file_extension": ".py",
   "mimetype": "text/x-python",
   "name": "python",
   "nbconvert_exporter": "python",
   "pygments_lexer": "ipython3",
   "version": "3.12.6"
  }
 },
 "nbformat": 4,
 "nbformat_minor": 2
}
