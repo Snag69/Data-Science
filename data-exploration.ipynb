{
 "cells": [
  {
   "cell_type": "markdown",
   "metadata": {},
   "source": [
    "# 2. Data Exploration"
   ]
  },
  {
   "cell_type": "markdown",
   "metadata": {},
   "source": [
    "## 2.0. Import Necessary Libraries"
   ]
  },
  {
   "cell_type": "code",
   "execution_count": 1,
   "metadata": {},
   "outputs": [],
   "source": [
    "import numpy as np\n",
    "import pandas as pd\n",
    "import matplotlib.pyplot as plt\n",
    "import seaborn as sns"
   ]
  },
  {
   "cell_type": "markdown",
   "metadata": {},
   "source": [
    "This section imports the essential Python libraries required for data analysis, visualization, and statistical exploration. Each library serves a specific purpose:\n",
    "\n",
    "- **NumPy (np)**: Provides support for multi-dimensional arrays and a wide range of mathematical operations, facilitating efficient numerical computations.\n",
    "- **Pandas (pd)**: A powerful data manipulation library used for loading, cleaning, and analyzing structured data through its **DataFrame** and **Series** objects.\n",
    "- **Matplotlib (plt)**: A versatile library for creating static, interactive, and animated visualizations, primarily used for plotting data in 2D.\n",
    "- **Seaborn (sns)**: Built on top of Matplotlib, this library simplifies the creation of visually appealing and informative statistical graphics, offering a high-level interface for data visualization.\n",
    "\n",
    "These libraries together enable efficient data processing and insightful visual representations to support data-driven decision-making."
   ]
  },
  {
   "cell_type": "markdown",
   "metadata": {},
   "source": [
    "## 2.1. Read data"
   ]
  },
  {
   "cell_type": "code",
   "execution_count": 2,
   "metadata": {},
   "outputs": [],
   "source": [
    "data_path = './data/tvshows_raw.csv'\n",
    "df = pd.read_csv(data_path)"
   ]
  },
  {
   "cell_type": "markdown",
   "metadata": {},
   "source": [
    "In this section, we use the **Pandas** library to read data from a CSV file containing information about automobiles. \n",
    "\n",
    "- First, the file path is stored in the variable `data_path`.\n",
    "- Then, the `pd.read_csv()` function is called to load the data from the file and convert it into a **DataFrame** object, which allows for easier manipulation, analysis, and visualization of the data.\n",
    "- The `df` variable holds the loaded dataset, which can be used for further processing in the subsequent steps of the analysis.\n",
    "\n",
    "This approach simplifies data handling and prepares the dataset for deeper exploration and analysis."
   ]
  },
  {
   "cell_type": "markdown",
   "metadata": {},
   "source": [
    "## 2.2. How many rows and how many columns?"
   ]
  },
  {
   "cell_type": "code",
   "execution_count": 3,
   "metadata": {},
   "outputs": [
    {
     "name": "stdout",
     "output_type": "stream",
     "text": [
      "Number of Row:  1138\n",
      "Number of Column:  14\n"
     ]
    }
   ],
   "source": [
    "row, col = df.shape\n",
    "print(\"Number of Row: \", row)\n",
    "print(\"Number of Column: \", col)"
   ]
  },
  {
   "cell_type": "markdown",
   "metadata": {},
   "source": [
    "The dataset contains **1138 rows** and **14 columns**. This indicates that there are **1138 entries** or **records** in the dataset, each corresponding to a different **TV show**. The **14 columns** represent various attributes of these TV shows, which might include information such as **title**, **release year**, **rating**, **runtime**, **cast**, **genres**, and **production companies**.\n",
    "\n",
    "With this structure, the dataset provides a **rich set of features** for each TV show, offering sufficient data for **comprehensive analysis** and **insight generation**. The relatively large number of rows suggests that the dataset is **adequate** for identifying patterns, trends, and relationships that can provide valuable insights into the performance of TV shows across different platforms and genres."
   ]
  },
  {
   "cell_type": "markdown",
   "metadata": {},
   "source": [
    "## 2.3. What is the meaning of each row?"
   ]
  },
  {
   "cell_type": "code",
   "execution_count": 4,
   "metadata": {},
   "outputs": [
    {
     "data": {
      "text/html": [
       "<div>\n",
       "<style scoped>\n",
       "    .dataframe tbody tr th:only-of-type {\n",
       "        vertical-align: middle;\n",
       "    }\n",
       "\n",
       "    .dataframe tbody tr th {\n",
       "        vertical-align: top;\n",
       "    }\n",
       "\n",
       "    .dataframe thead th {\n",
       "        text-align: right;\n",
       "    }\n",
       "</style>\n",
       "<table border=\"1\" class=\"dataframe\">\n",
       "  <thead>\n",
       "    <tr style=\"text-align: right;\">\n",
       "      <th></th>\n",
       "      <th>Title</th>\n",
       "      <th>Years</th>\n",
       "      <th>Certification</th>\n",
       "      <th>Runtime</th>\n",
       "      <th>Rating</th>\n",
       "      <th>Number of Votes</th>\n",
       "      <th>Emmys</th>\n",
       "      <th>Creators</th>\n",
       "      <th>Actors</th>\n",
       "      <th>Genres</th>\n",
       "      <th>Coutries of origins</th>\n",
       "      <th>Languages</th>\n",
       "      <th>Production companies</th>\n",
       "      <th>Link</th>\n",
       "    </tr>\n",
       "  </thead>\n",
       "  <tbody>\n",
       "    <tr>\n",
       "      <th>0</th>\n",
       "      <td>Queen Cleopatra</td>\n",
       "      <td>2023</td>\n",
       "      <td>TV-14</td>\n",
       "      <td>45m</td>\n",
       "      <td>1.2</td>\n",
       "      <td>86K</td>\n",
       "      <td>0</td>\n",
       "      <td>NaN</td>\n",
       "      <td>Jada Pinkett Smith, Adele James, Craig Russell...</td>\n",
       "      <td>Documentary, Drama, History</td>\n",
       "      <td>United Kingdom</td>\n",
       "      <td>English</td>\n",
       "      <td>Nutopia</td>\n",
       "      <td>https://www.imdb.com/title/tt27528139/?ref_=sr...</td>\n",
       "    </tr>\n",
       "    <tr>\n",
       "      <th>1</th>\n",
       "      <td>Velma</td>\n",
       "      <td>2023–2024</td>\n",
       "      <td>TV-MA</td>\n",
       "      <td>25m</td>\n",
       "      <td>1.6</td>\n",
       "      <td>80K</td>\n",
       "      <td>0</td>\n",
       "      <td>Charlie Grandy</td>\n",
       "      <td>Mindy Kaling, Glenn Howerton, Sam Richardson, ...</td>\n",
       "      <td>Animation, Adventure, Comedy, Crime, Horror, M...</td>\n",
       "      <td>United States, South Korea</td>\n",
       "      <td>English</td>\n",
       "      <td>Charlie Grandy Productions, Kaling Internation...</td>\n",
       "      <td>https://www.imdb.com/title/tt14153790/?ref_=sr...</td>\n",
       "    </tr>\n",
       "    <tr>\n",
       "      <th>2</th>\n",
       "      <td>Keeping Up with the Kardashians</td>\n",
       "      <td>2007–2021</td>\n",
       "      <td>TV-14</td>\n",
       "      <td>44m</td>\n",
       "      <td>2.9</td>\n",
       "      <td>32K</td>\n",
       "      <td>0</td>\n",
       "      <td>Ryan Seacrest, Eliot Goldberg</td>\n",
       "      <td>Khloé Kardashian, Kim Kardashian, Kourtney Kar...</td>\n",
       "      <td>Family, Reality-TV</td>\n",
       "      <td>United States</td>\n",
       "      <td>English, Spanish</td>\n",
       "      <td>Bunim-Murray Productions (BMP), Ryan Seacrest ...</td>\n",
       "      <td>https://www.imdb.com/title/tt1086761/?ref_=sr_...</td>\n",
       "    </tr>\n",
       "    <tr>\n",
       "      <th>3</th>\n",
       "      <td>Batwoman</td>\n",
       "      <td>2019–2022</td>\n",
       "      <td>TV-14</td>\n",
       "      <td>45m</td>\n",
       "      <td>3.6</td>\n",
       "      <td>47K</td>\n",
       "      <td>0</td>\n",
       "      <td>Caroline Dries</td>\n",
       "      <td>Camrus Johnson, Rachel Skarsten, Meagan Tandy,...</td>\n",
       "      <td>Action, Adventure, Crime, Drama, Sci-Fi</td>\n",
       "      <td>United States</td>\n",
       "      <td>English</td>\n",
       "      <td>Berlanti Productions, DC Entertainment, Warner...</td>\n",
       "      <td>https://www.imdb.com/title/tt8712204/?ref_=sr_...</td>\n",
       "    </tr>\n",
       "    <tr>\n",
       "      <th>4</th>\n",
       "      <td>The Acolyte</td>\n",
       "      <td>2024</td>\n",
       "      <td>TV-14</td>\n",
       "      <td>35m</td>\n",
       "      <td>4.1</td>\n",
       "      <td>125K</td>\n",
       "      <td>0</td>\n",
       "      <td>Leslye Headland</td>\n",
       "      <td>Lee Jung-jae, Amandla Stenberg, Manny Jacinto,...</td>\n",
       "      <td>Action, Adventure, Drama, Fantasy, Mystery, Sc...</td>\n",
       "      <td>United States</td>\n",
       "      <td>English</td>\n",
       "      <td>Lucasfilm, Disney+, The Walt Disney Company</td>\n",
       "      <td>https://www.imdb.com/title/tt12262202/?ref_=sr...</td>\n",
       "    </tr>\n",
       "  </tbody>\n",
       "</table>\n",
       "</div>"
      ],
      "text/plain": [
       "                             Title      Years Certification Runtime  Rating  \\\n",
       "0                  Queen Cleopatra       2023         TV-14     45m     1.2   \n",
       "1                            Velma  2023–2024         TV-MA     25m     1.6   \n",
       "2  Keeping Up with the Kardashians  2007–2021         TV-14     44m     2.9   \n",
       "3                         Batwoman  2019–2022         TV-14     45m     3.6   \n",
       "4                      The Acolyte       2024         TV-14     35m     4.1   \n",
       "\n",
       "  Number of Votes  Emmys                       Creators  \\\n",
       "0             86K      0                            NaN   \n",
       "1             80K      0                 Charlie Grandy   \n",
       "2             32K      0  Ryan Seacrest, Eliot Goldberg   \n",
       "3             47K      0                 Caroline Dries   \n",
       "4            125K      0                Leslye Headland   \n",
       "\n",
       "                                              Actors  \\\n",
       "0  Jada Pinkett Smith, Adele James, Craig Russell...   \n",
       "1  Mindy Kaling, Glenn Howerton, Sam Richardson, ...   \n",
       "2  Khloé Kardashian, Kim Kardashian, Kourtney Kar...   \n",
       "3  Camrus Johnson, Rachel Skarsten, Meagan Tandy,...   \n",
       "4  Lee Jung-jae, Amandla Stenberg, Manny Jacinto,...   \n",
       "\n",
       "                                              Genres  \\\n",
       "0                        Documentary, Drama, History   \n",
       "1  Animation, Adventure, Comedy, Crime, Horror, M...   \n",
       "2                                 Family, Reality-TV   \n",
       "3            Action, Adventure, Crime, Drama, Sci-Fi   \n",
       "4  Action, Adventure, Drama, Fantasy, Mystery, Sc...   \n",
       "\n",
       "          Coutries of origins         Languages  \\\n",
       "0              United Kingdom           English   \n",
       "1  United States, South Korea           English   \n",
       "2               United States  English, Spanish   \n",
       "3               United States           English   \n",
       "4               United States           English   \n",
       "\n",
       "                                Production companies  \\\n",
       "0                                            Nutopia   \n",
       "1  Charlie Grandy Productions, Kaling Internation...   \n",
       "2  Bunim-Murray Productions (BMP), Ryan Seacrest ...   \n",
       "3  Berlanti Productions, DC Entertainment, Warner...   \n",
       "4        Lucasfilm, Disney+, The Walt Disney Company   \n",
       "\n",
       "                                                Link  \n",
       "0  https://www.imdb.com/title/tt27528139/?ref_=sr...  \n",
       "1  https://www.imdb.com/title/tt14153790/?ref_=sr...  \n",
       "2  https://www.imdb.com/title/tt1086761/?ref_=sr_...  \n",
       "3  https://www.imdb.com/title/tt8712204/?ref_=sr_...  \n",
       "4  https://www.imdb.com/title/tt12262202/?ref_=sr...  "
      ]
     },
     "execution_count": 4,
     "metadata": {},
     "output_type": "execute_result"
    }
   ],
   "source": [
    "df.head()"
   ]
  },
  {
   "cell_type": "markdown",
   "metadata": {},
   "source": [
    "Each **row** in the dataset represents the **information of a specific TV show**. Each row contains a set of **attributes** related to that particular show, which describe its **performance**, **genre**, **cast**, **rating**, **runtime**, **production companies**, and more. These rows collectively provide a **detailed profile** for every TV show, allowing for **comparisons** across different shows based on various features such as **rating**, **viewership**, **genre**, and **production company**.\n",
    "\n",
    "Essentially, every row captures the **key data** for an individual TV show, and this **structured representation** helps in understanding **patterns**, **trends**, and **relationships** within the dataset. By examining the rows, we can analyze how different TV shows vary based on their **attributes** and make **informed decisions** or **predictions** about the factors influencing their performance or success."
   ]
  },
  {
   "cell_type": "markdown",
   "metadata": {},
   "source": [
    "## 2.4. Are there duplicated rows?"
   ]
  },
  {
   "cell_type": "code",
   "execution_count": 5,
   "metadata": {},
   "outputs": [
    {
     "data": {
      "text/html": [
       "<div>\n",
       "<style scoped>\n",
       "    .dataframe tbody tr th:only-of-type {\n",
       "        vertical-align: middle;\n",
       "    }\n",
       "\n",
       "    .dataframe tbody tr th {\n",
       "        vertical-align: top;\n",
       "    }\n",
       "\n",
       "    .dataframe thead th {\n",
       "        text-align: right;\n",
       "    }\n",
       "</style>\n",
       "<table border=\"1\" class=\"dataframe\">\n",
       "  <thead>\n",
       "    <tr style=\"text-align: right;\">\n",
       "      <th></th>\n",
       "      <th>Title</th>\n",
       "      <th>Years</th>\n",
       "      <th>Certification</th>\n",
       "      <th>Runtime</th>\n",
       "      <th>Rating</th>\n",
       "      <th>Number of Votes</th>\n",
       "      <th>Emmys</th>\n",
       "      <th>Creators</th>\n",
       "      <th>Actors</th>\n",
       "      <th>Genres</th>\n",
       "      <th>Coutries of origins</th>\n",
       "      <th>Languages</th>\n",
       "      <th>Production companies</th>\n",
       "      <th>Link</th>\n",
       "    </tr>\n",
       "  </thead>\n",
       "  <tbody>\n",
       "  </tbody>\n",
       "</table>\n",
       "</div>"
      ],
      "text/plain": [
       "Empty DataFrame\n",
       "Columns: [Title, Years, Certification, Runtime, Rating, Number of Votes, Emmys, Creators, Actors, Genres, Coutries of origins, Languages, Production companies, Link]\n",
       "Index: []"
      ]
     },
     "execution_count": 5,
     "metadata": {},
     "output_type": "execute_result"
    }
   ],
   "source": [
    "df[df.duplicated(keep=False)]"
   ]
  },
  {
   "cell_type": "markdown",
   "metadata": {},
   "source": [
    "Upon checking the dataset for **duplicated rows** using the command `df[df.duplicated(keep=False)]`, it is observed that there are **no duplicated rows** present. This means that each **entry** in the dataset is **unique**, which is a good sign as it ensures that there is no **redundancy** in the data.\n",
    "\n",
    "The **absence of duplicate rows** is important because it prevents potential **biases** or **errors** that could arise from analyzing repeated data. It suggests that the data has been **properly collected** and **cleaned**, making it suitable for further **analysis** and **modeling** without the need for **data cleansing** regarding duplicates."
   ]
  },
  {
   "cell_type": "markdown",
   "metadata": {},
   "source": [
    "## 2.5. What is the meaning of each column?"
   ]
  },
  {
   "cell_type": "code",
   "execution_count": 6,
   "metadata": {},
   "outputs": [
    {
     "data": {
      "text/plain": [
       "['Title',\n",
       " 'Years',\n",
       " 'Certification',\n",
       " 'Runtime',\n",
       " 'Rating',\n",
       " 'Number of Votes',\n",
       " 'Emmys',\n",
       " 'Creators',\n",
       " 'Actors',\n",
       " 'Genres',\n",
       " 'Coutries of origins',\n",
       " 'Languages',\n",
       " 'Production companies',\n",
       " 'Link']"
      ]
     },
     "execution_count": 6,
     "metadata": {},
     "output_type": "execute_result"
    }
   ],
   "source": [
    "list(df.columns.values)"
   ]
  },
  {
   "cell_type": "markdown",
   "metadata": {},
   "source": [
    "Here is a detailed explanation of each column in the dataset:\n",
    "\n",
    "| **Column**             | **Description**                                                                                   | **Meaning**                                                                                                             |\n",
    "|------------------------|---------------------------------------------------------------------------------------------------|-------------------------------------------------------------------------------------------------------------------------|\n",
    "| **Title**              | Title of the TV show or miniseries.                                                                | This column contains the name or title of the TV show or miniseries, which identifies the specific show in the dataset. |\n",
    "| **Years**              | Year(s) of broadcast of the TV show.                                                               | Represents the year or range of years in which the TV show aired or was first released. This provides insight into the show's age or broadcast timeline. |\n",
    "| **Certification**      | The certification or rating that the show has received.                                             | Indicates the age rating or certification level of the TV show, which is assigned based on content appropriateness for various age groups. |\n",
    "| **Runtime**            | Duration of the TV show in terms of time.                                                           | Refers to the total length of the show or the individual episodes, usually measured in minutes, indicating how long the show lasts. |\n",
    "| **Rating**             | The score or rating given to the TV show, usually on a scale of 1 to 10.                          | Represents the average score given by viewers or critics on a 10-point scale. It helps measure the show's popularity and perceived quality. |\n",
    "| **Number of Votes**    | The number of votes or reviews the TV show has received.                                           | Indicates the total number of votes or reviews submitted by viewers or critics for the TV show, giving an idea of its audience size and engagement. |\n",
    "| **Emmys**              | The number of Emmy awards the TV show has won.                                                     | This column shows how many Emmy awards the show has won, which signifies its recognition in the television industry for excellence in various categories. |\n",
    "| **Creators**           | The individuals or teams responsible for creating the TV show.                                      | Lists the creators, such as writers, directors, or producers, who are credited with the development and creation of the TV show. |\n",
    "| **Actors**             | The main actors or cast members of the TV show.                                                    | Contains the names of the key actors or cast members who appeared in the TV show, providing insight into the talent behind the production. |\n",
    "| **Genres**             | The type or category of the TV show.                                                                | Represents the genre(s) of the TV show (e.g., drama, comedy, sci-fi, etc.), which helps categorize the show based on its content and themes. |\n",
    "| **Countries of Origins**| The country or countries where the TV show was produced.                                            | Shows the country of origin, indicating where the TV show was filmed or produced, which can provide context for the show's cultural background and style. |\n",
    "| **Languages**          | The primary languages in which the TV show is available or performed.                              | Lists the languages spoken or used in the TV show, which can indicate the primary audience and market for the show. |\n",
    "| **Production Companies**| The company or companies responsible for producing the TV show.                                     | Contains the names of the production companies that were involved in the creation and distribution of the TV show. |\n",
    "| **Link**               | A URL link to the TV show's IMDb page.                                                             | Provides a hyperlink to the IMDb page for the TV show, where users can find additional details, reviews, and related content. |\n",
    "\n",
    "This structured format helps provide a comprehensive understanding of each TV show in the dataset, offering valuable insights into its background, audience reception, and industry recognition."
   ]
  },
  {
   "cell_type": "markdown",
   "metadata": {},
   "source": [
    "## 2.6. What is the current data type of each column? Are there columns having inappropriate data types?"
   ]
  },
  {
   "cell_type": "markdown",
   "metadata": {},
   "source": [
    "### 2.6.1. Overview of Data Types:"
   ]
  },
  {
   "cell_type": "markdown",
   "metadata": {},
   "source": [
    "To provide a **general overview** of the dataset without detailed analysis or statistical insights, the **data types** of each **column** can be displayed along with a quick **summary** (e.g., **unique values** for categorical columns and **summary statistics** for numerical columns)."
   ]
  },
  {
   "cell_type": "code",
   "execution_count": 7,
   "metadata": {},
   "outputs": [
    {
     "data": {
      "text/plain": [
       "Title                    object\n",
       "Years                    object\n",
       "Certification            object\n",
       "Runtime                  object\n",
       "Rating                  float64\n",
       "Number of Votes          object\n",
       "Emmys                     int64\n",
       "Creators                 object\n",
       "Actors                   object\n",
       "Genres                   object\n",
       "Coutries of origins      object\n",
       "Languages                object\n",
       "Production companies     object\n",
       "Link                     object\n",
       "dtype: object"
      ]
     },
     "execution_count": 7,
     "metadata": {},
     "output_type": "execute_result"
    }
   ],
   "source": [
    "df.dtypes"
   ]
  },
  {
   "cell_type": "markdown",
   "metadata": {},
   "source": [
    "The **data types** of each **column** in the dataset provide useful insights into the **structure** of the data. Here’s a breakdown and interpretation of each column's **data type**:\n",
    "\n",
    "| **Column Name**          | **Data Type**   | **Description**                                                                                     |\n",
    "|--------------------------|-----------------|-----------------------------------------------------------------------------------------------------|\n",
    "| **Title**                 | object          | The **Title** column is of type `object`, which is appropriate as it contains the names of TV shows or programs, stored as strings. |\n",
    "| **Years**                 | object          | The **Years** column is of type `object`, which might indicate a range or specific year. It may be converted to a **datetime** type if necessary. |\n",
    "| **Certification**         | object          | The **Certification** column is of type `object`, suitable for storing categorical data such as age ratings or certifications. |\n",
    "| **Runtime**               | object          | The **Runtime** column is of type `object`. It could be converted to a numeric type (e.g., int or float) if the data represents time in minutes or hours. |\n",
    "| **Rating**                | float64         | The **Rating** column is of type `float64`, which is appropriate for numerical values with decimal points, as ratings are typically represented with decimals. |\n",
    "| **Number of Votes**       | object          | The **Number of Votes** column is of type `object`, but it should be converted to `int64` as it represents a count of votes, which is an integer. |\n",
    "| **Emmys**                 | int64           | The **Emmys** column is of type `int64`, which is correct since the number of Emmys won is represented as an integer. |\n",
    "| **Creators**              | object          | The **Creators** column is of type `object`, suitable as it contains the names of the creators of the show. |\n",
    "| **Actors**                | object          | The **Actors** column is of type `object`, appropriate for storing the names of actors in the show. |\n",
    "| **Genres**                | object          | The **Genres** column is of type `object`, which is correct for storing categorical data such as genres (e.g., comedy, drama). |\n",
    "| **Countries of Origins**  | object          | The **Countries of Origins** column is of type `object`, which is suitable for storing categorical data regarding the countries of origin for the show. |\n",
    "| **Languages**             | object          | The **Languages** column is of type `object`, appropriate as it stores the languages in which the show is available. |\n",
    "| **Production Companies**  | object          | The **Production Companies** column is of type `object`, which is correct for storing the names of production companies. |\n",
    "| **Link**                  | object          | The **Link** column is of type `object`, appropriate for storing URL links to the show's website. |"
   ]
  },
  {
   "cell_type": "markdown",
   "metadata": {},
   "source": [
    "#### **_Summary_**:\n",
    "- **_Correct Data Types_**: Most **columns** have the appropriate **data types**. **_Numerical columns_** like **`Rating`** and **`Emmys`** are correctly represented as **`float64`** and **`int64`** respectively. **_Categorical columns_** like **`Title`**, **`Creators`**, and **`Actors`** are stored as **`object`**, which is suitable for textual or categorical data.\n",
    "- **_Potential Data Type Issues_**: \n",
    "  - **`Number of Votes`** is currently stored as **`object`**, but it should be converted to **`int64`** since it represents a count of votes.\n",
    "  - **`Runtime`** is stored as **`object`**, but it would be more appropriate to convert it to a **numeric type** (e.g., `int64` or `float64`) if it represents a time duration in minutes or hours.\n",
    "  - **`Years`** is stored as **`object`**, but it may need to be converted to a **datetime** type if it represents specific years or ranges."
   ]
  },
  {
   "cell_type": "markdown",
   "metadata": {},
   "source": [
    "#### **_Potential Improvements_**:\n",
    "- **_Missing Data Check_**: It’s important to check if there are any missing values in the dataset, especially for numerical columns like **`Number of Votes`** and **`Runtime`**, which could sometimes have missing or incorrect values.\n",
    "- **_Consistency in `Runtime` Column_**: The **`Runtime`** column is currently of type **`object`**, but it should be checked for consistency and potentially converted to a numerical type (e.g., **`int64`** or **`float64`**) if it represents time duration in minutes.\n",
    "- **_Consistency in `Years` Column_**: The **`Years`** column is stored as **`object`** but may be better represented as a **`datetime`** type to ensure accurate processing of year-related data."
   ]
  },
  {
   "cell_type": "markdown",
   "metadata": {},
   "source": [
    "#### **_Overall_**:\n",
    "- Most of the data types are appropriate for the nature of the data in each column. Numerical columns such as **`Rating`**, **`Emmys`**, and others are correctly represented as **`float64`** or **`int64`**, while categorical columns like **`Title`**, **`Certification`**, and **`Genres`** are appropriately stored as **`object`**.\n",
    "- There are a few potential improvements regarding consistency and ensuring that all columns are properly formatted for analysis, such as converting certain columns to categorical or numerical types."
   ]
  },
  {
   "cell_type": "markdown",
   "metadata": {},
   "source": [
    "### 2.6.2. Blank Shell of Each Column:"
   ]
  },
  {
   "cell_type": "code",
   "execution_count": 8,
   "metadata": {},
   "outputs": [
    {
     "data": {
      "text/plain": [
       "Title                     0\n",
       "Years                     0\n",
       "Certification            14\n",
       "Runtime                  57\n",
       "Rating                    0\n",
       "Number of Votes           0\n",
       "Emmys                     0\n",
       "Creators                198\n",
       "Actors                    1\n",
       "Genres                    0\n",
       "Coutries of origins       0\n",
       "Languages                 0\n",
       "Production companies     17\n",
       "Link                      0\n",
       "dtype: int64"
      ]
     },
     "execution_count": 8,
     "metadata": {},
     "output_type": "execute_result"
    }
   ],
   "source": [
    "df.isna().sum()"
   ]
  },
  {
   "cell_type": "markdown",
   "metadata": {},
   "source": [
    "To identify the missing values in each column, the following output shows the count of missing values for each column:\n",
    "\n",
    "| **Column**              | **Missing Values** |\n",
    "|-------------------------|--------------------|\n",
    "| **Title**               | 0                  |\n",
    "| **Years**               | 0                  |\n",
    "| **Certification**       | 14                 |\n",
    "| **Runtime**             | 57                 |\n",
    "| **Rating**              | 0                  |\n",
    "| **Number of Votes**     | 0                  |\n",
    "| **Emmys**               | 0                  |\n",
    "| **Creators**            | 198                |\n",
    "| **Actors**              | 1                  |\n",
    "| **Genres**              | 0                  |\n",
    "| **Countries of origins**| 0                  |\n",
    "| **Languages**           | 0                  |\n",
    "| **Production companies**| 17                 |\n",
    "| **Link**                | 0                  |"
   ]
  },
  {
   "cell_type": "markdown",
   "metadata": {},
   "source": [
    "#### **Observations**:\n",
    "- Columns like **`Runtime`** and **`Creators`** have a significant number of missing values (57 and 198, respectively). \n",
    "- **`Creators`** column can be ignored as it is not essential for the analysis.\n",
    "- The **`Runtime`** column, being an important feature, will need to be handled with care. Since it is a numerical column, missing values can be filled with **`0`** or another suitable strategy based on the context. In the following steps, we will explore how to deal with this column appropriately."
   ]
  },
  {
   "cell_type": "markdown",
   "metadata": {},
   "source": [
    "#### **Next Steps**:\n",
    "- **Missing Data**: For numerical columns such as **`Runtime`**, **`Number of Votes`**, and **`Production companies`**, **`NaN`** values will be replaced with **0** or other suitable filler values.\n",
    "- **Non-Numerical Columns**: For non-numerical columns like **`Certification`**, **`Creators`**, and **`Actors`**, missing values can be handled with placeholders or by ignoring those records if needed."
   ]
  },
  {
   "cell_type": "markdown",
   "metadata": {},
   "source": [
    "The **Runtime** and **Creators** columns have quite a few missing values (NAN). However, the **Creators** column is not a critical factor that we need to focus on, so it can be ignored. Meanwhile, the **Runtime** column plays a more important role, and we will spend time handling this column in more detail in the subsequent steps."
   ]
  }
 ],
 "metadata": {
  "kernelspec": {
   "display_name": "Python 3",
   "language": "python",
   "name": "python3"
  },
  "language_info": {
   "codemirror_mode": {
    "name": "ipython",
    "version": 3
   },
   "file_extension": ".py",
   "mimetype": "text/x-python",
   "name": "python",
   "nbconvert_exporter": "python",
   "pygments_lexer": "ipython3",
   "version": "3.12.6"
  }
 },
 "nbformat": 4,
 "nbformat_minor": 2
}
