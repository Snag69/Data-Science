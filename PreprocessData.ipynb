{
 "cells": [
  {
   "cell_type": "code",
   "execution_count": 5,
   "metadata": {},
   "outputs": [],
   "source": [
    "import numpy as np\n",
    "import pandas as pd\n",
    "import matplotlib.pyplot as plt\n",
    "import seaborn as sns"
   ]
  },
  {
   "cell_type": "markdown",
   "metadata": {},
   "source": [
    "# Data"
   ]
  },
  {
   "cell_type": "code",
   "execution_count": null,
   "metadata": {},
   "outputs": [
    {
     "data": {
      "text/html": [
       "<div>\n",
       "<style scoped>\n",
       "    .dataframe tbody tr th:only-of-type {\n",
       "        vertical-align: middle;\n",
       "    }\n",
       "\n",
       "    .dataframe tbody tr th {\n",
       "        vertical-align: top;\n",
       "    }\n",
       "\n",
       "    .dataframe thead th {\n",
       "        text-align: right;\n",
       "    }\n",
       "</style>\n",
       "<table border=\"1\" class=\"dataframe\">\n",
       "  <thead>\n",
       "    <tr style=\"text-align: right;\">\n",
       "      <th></th>\n",
       "      <th>Title</th>\n",
       "      <th>Years</th>\n",
       "      <th>Certification</th>\n",
       "      <th>Runtime</th>\n",
       "      <th>Rating</th>\n",
       "      <th>Number of Votes</th>\n",
       "      <th>Emmys</th>\n",
       "      <th>Creators</th>\n",
       "      <th>Actors</th>\n",
       "      <th>Genres</th>\n",
       "      <th>Coutries of origins</th>\n",
       "      <th>Languages</th>\n",
       "      <th>Production companies</th>\n",
       "      <th>Link</th>\n",
       "    </tr>\n",
       "  </thead>\n",
       "  <tbody>\n",
       "    <tr>\n",
       "      <th>0</th>\n",
       "      <td>Queen Cleopatra</td>\n",
       "      <td>(2023, None)</td>\n",
       "      <td>TV-14</td>\n",
       "      <td>45.0</td>\n",
       "      <td>1.2</td>\n",
       "      <td>86000</td>\n",
       "      <td>0</td>\n",
       "      <td>NaN</td>\n",
       "      <td>Jada Pinkett Smith, Adele James, Craig Russell...</td>\n",
       "      <td>Documentary, Drama, History</td>\n",
       "      <td>United Kingdom</td>\n",
       "      <td>English</td>\n",
       "      <td>Nutopia</td>\n",
       "      <td>https://www.imdb.com/title/tt27528139/?ref_=sr...</td>\n",
       "    </tr>\n",
       "    <tr>\n",
       "      <th>1</th>\n",
       "      <td>Velma</td>\n",
       "      <td>(2023, 2024)</td>\n",
       "      <td>TV-MA</td>\n",
       "      <td>25.0</td>\n",
       "      <td>1.6</td>\n",
       "      <td>80000</td>\n",
       "      <td>0</td>\n",
       "      <td>Charlie Grandy</td>\n",
       "      <td>Mindy Kaling, Glenn Howerton, Sam Richardson, ...</td>\n",
       "      <td>Animation, Adventure, Comedy, Crime, Horror, M...</td>\n",
       "      <td>United States, South Korea</td>\n",
       "      <td>English</td>\n",
       "      <td>Charlie Grandy Productions, Kaling Internation...</td>\n",
       "      <td>https://www.imdb.com/title/tt14153790/?ref_=sr...</td>\n",
       "    </tr>\n",
       "    <tr>\n",
       "      <th>2</th>\n",
       "      <td>Keeping Up with the Kardashians</td>\n",
       "      <td>(2007, 2021)</td>\n",
       "      <td>TV-14</td>\n",
       "      <td>44.0</td>\n",
       "      <td>2.9</td>\n",
       "      <td>32000</td>\n",
       "      <td>0</td>\n",
       "      <td>Ryan Seacrest, Eliot Goldberg</td>\n",
       "      <td>Khloé Kardashian, Kim Kardashian, Kourtney Kar...</td>\n",
       "      <td>Family, Reality-TV</td>\n",
       "      <td>United States</td>\n",
       "      <td>English, Spanish</td>\n",
       "      <td>Bunim-Murray Productions (BMP), Ryan Seacrest ...</td>\n",
       "      <td>https://www.imdb.com/title/tt1086761/?ref_=sr_...</td>\n",
       "    </tr>\n",
       "    <tr>\n",
       "      <th>3</th>\n",
       "      <td>Batwoman</td>\n",
       "      <td>(2019, 2022)</td>\n",
       "      <td>TV-14</td>\n",
       "      <td>45.0</td>\n",
       "      <td>3.6</td>\n",
       "      <td>47000</td>\n",
       "      <td>0</td>\n",
       "      <td>Caroline Dries</td>\n",
       "      <td>Camrus Johnson, Rachel Skarsten, Meagan Tandy,...</td>\n",
       "      <td>Action, Adventure, Crime, Drama, Sci-Fi</td>\n",
       "      <td>United States</td>\n",
       "      <td>English</td>\n",
       "      <td>Berlanti Productions, DC Entertainment, Warner...</td>\n",
       "      <td>https://www.imdb.com/title/tt8712204/?ref_=sr_...</td>\n",
       "    </tr>\n",
       "    <tr>\n",
       "      <th>4</th>\n",
       "      <td>The Acolyte</td>\n",
       "      <td>(2024, None)</td>\n",
       "      <td>TV-14</td>\n",
       "      <td>35.0</td>\n",
       "      <td>4.1</td>\n",
       "      <td>125000</td>\n",
       "      <td>0</td>\n",
       "      <td>Leslye Headland</td>\n",
       "      <td>Lee Jung-jae, Amandla Stenberg, Manny Jacinto,...</td>\n",
       "      <td>Action, Adventure, Drama, Fantasy, Mystery, Sc...</td>\n",
       "      <td>United States</td>\n",
       "      <td>English</td>\n",
       "      <td>Lucasfilm, Disney+, The Walt Disney Company</td>\n",
       "      <td>https://www.imdb.com/title/tt12262202/?ref_=sr...</td>\n",
       "    </tr>\n",
       "    <tr>\n",
       "      <th>...</th>\n",
       "      <td>...</td>\n",
       "      <td>...</td>\n",
       "      <td>...</td>\n",
       "      <td>...</td>\n",
       "      <td>...</td>\n",
       "      <td>...</td>\n",
       "      <td>...</td>\n",
       "      <td>...</td>\n",
       "      <td>...</td>\n",
       "      <td>...</td>\n",
       "      <td>...</td>\n",
       "      <td>...</td>\n",
       "      <td>...</td>\n",
       "      <td>...</td>\n",
       "    </tr>\n",
       "    <tr>\n",
       "      <th>1133</th>\n",
       "      <td>The Wire</td>\n",
       "      <td>(2002, 2008)</td>\n",
       "      <td>TV-MA</td>\n",
       "      <td>60.0</td>\n",
       "      <td>9.3</td>\n",
       "      <td>390000</td>\n",
       "      <td>0</td>\n",
       "      <td>David Simon</td>\n",
       "      <td>Dominic West, Lance Reddick, Sonja Sohn, Wende...</td>\n",
       "      <td>Crime, Drama, Thriller</td>\n",
       "      <td>United States</td>\n",
       "      <td>English, Greek, Mandarin, Spanish</td>\n",
       "      <td>Blown Deadline Productions, Home Box Office (HBO)</td>\n",
       "      <td>https://www.imdb.com/title/tt0306414/?ref_=sr_i_5</td>\n",
       "    </tr>\n",
       "    <tr>\n",
       "      <th>1134</th>\n",
       "      <td>Planet Earth</td>\n",
       "      <td>(2006, None)</td>\n",
       "      <td>TV-PG</td>\n",
       "      <td>50.0</td>\n",
       "      <td>9.4</td>\n",
       "      <td>223000</td>\n",
       "      <td>4</td>\n",
       "      <td>NaN</td>\n",
       "      <td>Sigourney Weaver, David Attenborough, Nikolay ...</td>\n",
       "      <td>Documentary, Family</td>\n",
       "      <td>United Kingdom, Canada, United States, Japan</td>\n",
       "      <td>English</td>\n",
       "      <td>British Broadcasting Corporation (BBC), Canadi...</td>\n",
       "      <td>https://www.imdb.com/title/tt0795176/?ref_=sr_i_4</td>\n",
       "    </tr>\n",
       "    <tr>\n",
       "      <th>1135</th>\n",
       "      <td>Band of Brothers</td>\n",
       "      <td>(2001, None)</td>\n",
       "      <td>TV-MA</td>\n",
       "      <td>60.0</td>\n",
       "      <td>9.4</td>\n",
       "      <td>544000</td>\n",
       "      <td>6</td>\n",
       "      <td>NaN</td>\n",
       "      <td>Scott Grimes, Damian Lewis, Ron Livingston, Sh...</td>\n",
       "      <td>Drama, History, War</td>\n",
       "      <td>United Kingdom, United States</td>\n",
       "      <td>English, Dutch, French, German, Lithuanian</td>\n",
       "      <td>DreamWorks, DreamWorks Television, HBO Films</td>\n",
       "      <td>https://www.imdb.com/title/tt0185906/?ref_=sr_i_3</td>\n",
       "    </tr>\n",
       "    <tr>\n",
       "      <th>1136</th>\n",
       "      <td>Planet Earth II</td>\n",
       "      <td>(2016, None)</td>\n",
       "      <td>TV-G</td>\n",
       "      <td>50.0</td>\n",
       "      <td>9.5</td>\n",
       "      <td>162000</td>\n",
       "      <td>2</td>\n",
       "      <td>NaN</td>\n",
       "      <td>David Attenborough, Michael J. Sanderson, Gord...</td>\n",
       "      <td>Documentary</td>\n",
       "      <td>United Kingdom, Germany, France, China, United...</td>\n",
       "      <td>English, French</td>\n",
       "      <td>BBC Natural History Unit (NHU), BBC America, Z...</td>\n",
       "      <td>https://www.imdb.com/title/tt5491994/?ref_=sr_i_2</td>\n",
       "    </tr>\n",
       "    <tr>\n",
       "      <th>1137</th>\n",
       "      <td>Breaking Bad</td>\n",
       "      <td>(2008, 2013)</td>\n",
       "      <td>TV-MA</td>\n",
       "      <td>45.0</td>\n",
       "      <td>9.5</td>\n",
       "      <td>2200000</td>\n",
       "      <td>16</td>\n",
       "      <td>Vince Gilligan</td>\n",
       "      <td>Bryan Cranston, Aaron Paul, Anna Gunn, Betsy B...</td>\n",
       "      <td>Crime, Drama, Thriller</td>\n",
       "      <td>United States</td>\n",
       "      <td>English, Spanish</td>\n",
       "      <td>High Bridge Productions, Gran Via Productions,...</td>\n",
       "      <td>https://www.imdb.com/title/tt0903747/?ref_=sr_i_1</td>\n",
       "    </tr>\n",
       "  </tbody>\n",
       "</table>\n",
       "<p>1138 rows × 14 columns</p>\n",
       "</div>"
      ],
      "text/plain": [
       "                                Title         Years Certification  Runtime  \\\n",
       "0                     Queen Cleopatra  (2023, None)         TV-14     45.0   \n",
       "1                               Velma  (2023, 2024)         TV-MA     25.0   \n",
       "2     Keeping Up with the Kardashians  (2007, 2021)         TV-14     44.0   \n",
       "3                            Batwoman  (2019, 2022)         TV-14     45.0   \n",
       "4                         The Acolyte  (2024, None)         TV-14     35.0   \n",
       "...                               ...           ...           ...      ...   \n",
       "1133                         The Wire  (2002, 2008)         TV-MA     60.0   \n",
       "1134                     Planet Earth  (2006, None)         TV-PG     50.0   \n",
       "1135                 Band of Brothers  (2001, None)         TV-MA     60.0   \n",
       "1136                  Planet Earth II  (2016, None)          TV-G     50.0   \n",
       "1137                     Breaking Bad  (2008, 2013)         TV-MA     45.0   \n",
       "\n",
       "      Rating  Number of Votes  Emmys                       Creators  \\\n",
       "0        1.2            86000      0                            NaN   \n",
       "1        1.6            80000      0                 Charlie Grandy   \n",
       "2        2.9            32000      0  Ryan Seacrest, Eliot Goldberg   \n",
       "3        3.6            47000      0                 Caroline Dries   \n",
       "4        4.1           125000      0                Leslye Headland   \n",
       "...      ...              ...    ...                            ...   \n",
       "1133     9.3           390000      0                    David Simon   \n",
       "1134     9.4           223000      4                            NaN   \n",
       "1135     9.4           544000      6                            NaN   \n",
       "1136     9.5           162000      2                            NaN   \n",
       "1137     9.5          2200000     16                 Vince Gilligan   \n",
       "\n",
       "                                                 Actors  \\\n",
       "0     Jada Pinkett Smith, Adele James, Craig Russell...   \n",
       "1     Mindy Kaling, Glenn Howerton, Sam Richardson, ...   \n",
       "2     Khloé Kardashian, Kim Kardashian, Kourtney Kar...   \n",
       "3     Camrus Johnson, Rachel Skarsten, Meagan Tandy,...   \n",
       "4     Lee Jung-jae, Amandla Stenberg, Manny Jacinto,...   \n",
       "...                                                 ...   \n",
       "1133  Dominic West, Lance Reddick, Sonja Sohn, Wende...   \n",
       "1134  Sigourney Weaver, David Attenborough, Nikolay ...   \n",
       "1135  Scott Grimes, Damian Lewis, Ron Livingston, Sh...   \n",
       "1136  David Attenborough, Michael J. Sanderson, Gord...   \n",
       "1137  Bryan Cranston, Aaron Paul, Anna Gunn, Betsy B...   \n",
       "\n",
       "                                                 Genres  \\\n",
       "0                           Documentary, Drama, History   \n",
       "1     Animation, Adventure, Comedy, Crime, Horror, M...   \n",
       "2                                    Family, Reality-TV   \n",
       "3               Action, Adventure, Crime, Drama, Sci-Fi   \n",
       "4     Action, Adventure, Drama, Fantasy, Mystery, Sc...   \n",
       "...                                                 ...   \n",
       "1133                             Crime, Drama, Thriller   \n",
       "1134                                Documentary, Family   \n",
       "1135                                Drama, History, War   \n",
       "1136                                        Documentary   \n",
       "1137                             Crime, Drama, Thriller   \n",
       "\n",
       "                                    Coutries of origins  \\\n",
       "0                                        United Kingdom   \n",
       "1                            United States, South Korea   \n",
       "2                                         United States   \n",
       "3                                         United States   \n",
       "4                                         United States   \n",
       "...                                                 ...   \n",
       "1133                                      United States   \n",
       "1134       United Kingdom, Canada, United States, Japan   \n",
       "1135                      United Kingdom, United States   \n",
       "1136  United Kingdom, Germany, France, China, United...   \n",
       "1137                                      United States   \n",
       "\n",
       "                                       Languages  \\\n",
       "0                                        English   \n",
       "1                                        English   \n",
       "2                               English, Spanish   \n",
       "3                                        English   \n",
       "4                                        English   \n",
       "...                                          ...   \n",
       "1133           English, Greek, Mandarin, Spanish   \n",
       "1134                                     English   \n",
       "1135  English, Dutch, French, German, Lithuanian   \n",
       "1136                             English, French   \n",
       "1137                            English, Spanish   \n",
       "\n",
       "                                   Production companies  \\\n",
       "0                                               Nutopia   \n",
       "1     Charlie Grandy Productions, Kaling Internation...   \n",
       "2     Bunim-Murray Productions (BMP), Ryan Seacrest ...   \n",
       "3     Berlanti Productions, DC Entertainment, Warner...   \n",
       "4           Lucasfilm, Disney+, The Walt Disney Company   \n",
       "...                                                 ...   \n",
       "1133  Blown Deadline Productions, Home Box Office (HBO)   \n",
       "1134  British Broadcasting Corporation (BBC), Canadi...   \n",
       "1135       DreamWorks, DreamWorks Television, HBO Films   \n",
       "1136  BBC Natural History Unit (NHU), BBC America, Z...   \n",
       "1137  High Bridge Productions, Gran Via Productions,...   \n",
       "\n",
       "                                                   Link  \n",
       "0     https://www.imdb.com/title/tt27528139/?ref_=sr...  \n",
       "1     https://www.imdb.com/title/tt14153790/?ref_=sr...  \n",
       "2     https://www.imdb.com/title/tt1086761/?ref_=sr_...  \n",
       "3     https://www.imdb.com/title/tt8712204/?ref_=sr_...  \n",
       "4     https://www.imdb.com/title/tt12262202/?ref_=sr...  \n",
       "...                                                 ...  \n",
       "1133  https://www.imdb.com/title/tt0306414/?ref_=sr_i_5  \n",
       "1134  https://www.imdb.com/title/tt0795176/?ref_=sr_i_4  \n",
       "1135  https://www.imdb.com/title/tt0185906/?ref_=sr_i_3  \n",
       "1136  https://www.imdb.com/title/tt5491994/?ref_=sr_i_2  \n",
       "1137  https://www.imdb.com/title/tt0903747/?ref_=sr_i_1  \n",
       "\n",
       "[1138 rows x 14 columns]"
      ]
     },
     "execution_count": 18,
     "metadata": {},
     "output_type": "execute_result"
    }
   ],
   "source": [
    "data = pd.read_csv('./data.csv')\n",
    "data"
   ]
  },
  {
   "cell_type": "markdown",
   "metadata": {},
   "source": [
    "# Mean of each column"
   ]
  },
  {
   "cell_type": "markdown",
   "metadata": {},
   "source": [
    "- Title: title of the show\n",
    "- Years: year of broadcast of the show\n",
    "- Certification: certification that the show has\n",
    "- Runtime: Time limited of the show\n",
    "- Rating: the score on 10 point scale\n",
    "- Number of Votes: express vote of the show\n",
    "- Emmys: the show has how much emmy prize\n",
    "- Creators: The people or group people make the show\n",
    "- Actor: The people join the show\n",
    "- Genres: type of the show\n",
    "- Countries of origins: the country originate the show\n",
    "- Language: the language of the show\n",
    "- Production Companies: the company produce the show\n",
    "- Link: link of the show"
   ]
  },
  {
   "cell_type": "markdown",
   "metadata": {},
   "source": [
    "# Check datatype of columns"
   ]
  },
  {
   "cell_type": "code",
   "execution_count": 7,
   "metadata": {},
   "outputs": [
    {
     "data": {
      "text/plain": [
       "Title                    object\n",
       "Years                    object\n",
       "Certification            object\n",
       "Runtime                  object\n",
       "Rating                  float64\n",
       "Number of Votes          object\n",
       "Emmys                     int64\n",
       "Creators                 object\n",
       "Actors                   object\n",
       "Genres                   object\n",
       "Coutries of origins      object\n",
       "Languages                object\n",
       "Production companies     object\n",
       "Link                     object\n",
       "dtype: object"
      ]
     },
     "execution_count": 7,
     "metadata": {},
     "output_type": "execute_result"
    }
   ],
   "source": [
    "data.dtypes"
   ]
  },
  {
   "cell_type": "markdown",
   "metadata": {},
   "source": [
    "## See that we need to adjust the data type of some columns:  \n",
    "### - Runtime  \n",
    "### - Number of Votes  \n",
    "### - Years"
   ]
  },
  {
   "cell_type": "markdown",
   "metadata": {},
   "source": [
    "# Shape of data"
   ]
  },
  {
   "cell_type": "code",
   "execution_count": 8,
   "metadata": {},
   "outputs": [
    {
     "data": {
      "text/plain": [
       "(1138, 14)"
      ]
     },
     "execution_count": 8,
     "metadata": {},
     "output_type": "execute_result"
    }
   ],
   "source": [
    "# Size of data set\n",
    "data.shape"
   ]
  },
  {
   "cell_type": "markdown",
   "metadata": {},
   "source": [
    "So, the dataset with 1138 rows and 14 columns meets the requirements."
   ]
  },
  {
   "cell_type": "markdown",
   "metadata": {},
   "source": [
    "# Check duplicate"
   ]
  },
  {
   "cell_type": "code",
   "execution_count": 9,
   "metadata": {},
   "outputs": [
    {
     "data": {
      "text/html": [
       "<div>\n",
       "<style scoped>\n",
       "    .dataframe tbody tr th:only-of-type {\n",
       "        vertical-align: middle;\n",
       "    }\n",
       "\n",
       "    .dataframe tbody tr th {\n",
       "        vertical-align: top;\n",
       "    }\n",
       "\n",
       "    .dataframe thead th {\n",
       "        text-align: right;\n",
       "    }\n",
       "</style>\n",
       "<table border=\"1\" class=\"dataframe\">\n",
       "  <thead>\n",
       "    <tr style=\"text-align: right;\">\n",
       "      <th></th>\n",
       "      <th>Title</th>\n",
       "      <th>Years</th>\n",
       "      <th>Certification</th>\n",
       "      <th>Runtime</th>\n",
       "      <th>Rating</th>\n",
       "      <th>Number of Votes</th>\n",
       "      <th>Emmys</th>\n",
       "      <th>Creators</th>\n",
       "      <th>Actors</th>\n",
       "      <th>Genres</th>\n",
       "      <th>Coutries of origins</th>\n",
       "      <th>Languages</th>\n",
       "      <th>Production companies</th>\n",
       "      <th>Link</th>\n",
       "    </tr>\n",
       "  </thead>\n",
       "  <tbody>\n",
       "  </tbody>\n",
       "</table>\n",
       "</div>"
      ],
      "text/plain": [
       "Empty DataFrame\n",
       "Columns: [Title, Years, Certification, Runtime, Rating, Number of Votes, Emmys, Creators, Actors, Genres, Coutries of origins, Languages, Production companies, Link]\n",
       "Index: []"
      ]
     },
     "execution_count": 9,
     "metadata": {},
     "output_type": "execute_result"
    }
   ],
   "source": [
    "data[data.duplicated(keep=False)]"
   ]
  },
  {
   "cell_type": "markdown",
   "metadata": {},
   "source": [
    "The data in this dataset does not contain any rows that are entirely identical. This means that each row in the dataset is unique, with no duplication of all values across all columns between any two rows. This characteristic ensures that every record holds independent information and is not repeated, making data analysis more accurate and reliable"
   ]
  },
  {
   "cell_type": "markdown",
   "metadata": {},
   "source": [
    "# Blank shell of each columns"
   ]
  },
  {
   "cell_type": "code",
   "execution_count": 10,
   "metadata": {},
   "outputs": [
    {
     "data": {
      "text/plain": [
       "Title                     0\n",
       "Years                     0\n",
       "Certification            14\n",
       "Runtime                  57\n",
       "Rating                    0\n",
       "Number of Votes           0\n",
       "Emmys                     0\n",
       "Creators                198\n",
       "Actors                    1\n",
       "Genres                    0\n",
       "Coutries of origins       0\n",
       "Languages                 0\n",
       "Production companies     17\n",
       "Link                      0\n",
       "dtype: int64"
      ]
     },
     "execution_count": 10,
     "metadata": {},
     "output_type": "execute_result"
    }
   ],
   "source": [
    "data.isna().sum()"
   ]
  },
  {
   "cell_type": "markdown",
   "metadata": {},
   "source": [
    "The **Runtime** and **Creators** columns have quite a few missing values (NAN). However, the **Creators** column is not a critical factor that we need to focus on, so it can be ignored. Meanwhile, the **Runtime** column plays a more important role, and we will spend time handling this column in more detail in the subsequent steps."
   ]
  },
  {
   "cell_type": "markdown",
   "metadata": {},
   "source": [
    "# Change data in column Runtime about minute unit"
   ]
  },
  {
   "cell_type": "markdown",
   "metadata": {},
   "source": [
    "Based on the data, we can easily observe that the **Runtime** column is divided into time units as follows: **h** represents hours, **m** represents minutes, and some values contain both **h** and **m**."
   ]
  },
  {
   "cell_type": "markdown",
   "metadata": {},
   "source": [
    "For the values in the **Runtime** column, we will process them as follows:\n",
    "\n",
    "- **Case with both \"h\" and \"m\"**: Use the `split` function to separate the value into two parts based on the \"h\" character. The part before \"h\" will be converted to a number and multiplied by 60 (to convert to minutes), then added to the second part (the number of minutes).  \n",
    "- **Case with only \"h\"**: Extract the part before \"h,\" convert it to a number, and multiply it by 60.  \n",
    "- **Case with only \"m\"**: Simply take the number of minutes from the value.  \n",
    "\n",
    "This approach ensures that all values in the **Runtime** column are uniformly converted to minutes."
   ]
  },
  {
   "cell_type": "code",
   "execution_count": 11,
   "metadata": {},
   "outputs": [
    {
     "name": "stdout",
     "output_type": "stream",
     "text": [
      "0       45.0\n",
      "1       25.0\n",
      "2       44.0\n",
      "3       45.0\n",
      "4       35.0\n",
      "        ... \n",
      "1133    60.0\n",
      "1134    50.0\n",
      "1135    60.0\n",
      "1136    50.0\n",
      "1137    45.0\n",
      "Name: Runtime, Length: 1138, dtype: float64\n"
     ]
    }
   ],
   "source": [
    "new_col = []  \n",
    "for val in data['Runtime']:\n",
    "    if isinstance(val, str):\n",
    "        if 'h' in val and 'm' in val: # Case have hour and minute\n",
    "            hour, min = val.split('h')\n",
    "            min = min.split('m')[0]\n",
    "            new_col.append(int(hour) * 60 + int(min))\n",
    "        elif 'h' in val:  # Case only hour\n",
    "            hour = val.split('h')[0]\n",
    "            new_col.append(int(hour) * 60)\n",
    "        elif 'm' in val:  # Case only minute\n",
    "            min = val.split('m')[0]\n",
    "            new_col.append(int(min))\n",
    "        elif pd.isna(val):\n",
    "            new_col.append(0)\n",
    "    else:\n",
    "        new_col.append(val)  #if val is not str then append the list\n",
    "\n",
    "data['Runtime'] = new_col\n",
    "# Convert the 'Runtime' column to integer type, filling any remaining NaN with 0 first\n",
    "data['Runtime'] = data['Runtime'].fillna(0).astype('float')\n",
    "print(data['Runtime'])"
   ]
  },
  {
   "cell_type": "markdown",
   "metadata": {},
   "source": [
    "# Change data in column Number of Votes"
   ]
  },
  {
   "cell_type": "markdown",
   "metadata": {},
   "source": [
    "In the dataset, we notice that some values in the column are formatted as numbers with the **K** (thousand) or **M** (million) suffixes. To process these, we need to convert the values into standard numerical format as follows:\n",
    "\n",
    "- **If the value contains the \"K\" suffix**: Extract the number before the **K**, convert it to a numeric type, and then multiply by \\( 10^3 \\).  \n",
    "- **If the value contains the \"M\" suffix**: Extract the number before the **M**, convert it to a numeric type, and then multiply by \\( 10^6 \\).  \n",
    "- **If the value has no suffix**: Retain the value as it is.  \n",
    "\n",
    "By doing this, we can standardize all the values in the column to a consistent numeric format."
   ]
  },
  {
   "cell_type": "code",
   "execution_count": 12,
   "metadata": {},
   "outputs": [
    {
     "data": {
      "text/plain": [
       "0         86000\n",
       "1         80000\n",
       "2         32000\n",
       "3         47000\n",
       "4        125000\n",
       "         ...   \n",
       "1133     390000\n",
       "1134     223000\n",
       "1135     544000\n",
       "1136     162000\n",
       "1137    2200000\n",
       "Name: Number of Votes, Length: 1138, dtype: int64"
      ]
     },
     "execution_count": 12,
     "metadata": {},
     "output_type": "execute_result"
    }
   ],
   "source": [
    "new_col = []\n",
    "for i in data['Number of Votes']:\n",
    "    if 'K' in i:\n",
    "        val = i.split('K')[0]\n",
    "        new_col.append(int(float(val)*(10**3)))\n",
    "    elif 'M' in i: \n",
    "        val = i.split('M')[0]\n",
    "        new_col.append(int(float(val)*(10**6)))\n",
    "data['Number of Votes'] = new_col\n",
    "data['Number of Votes']"
   ]
  },
  {
   "cell_type": "markdown",
   "metadata": {},
   "source": [
    "# Handle Year column"
   ]
  },
  {
   "cell_type": "markdown",
   "metadata": {},
   "source": [
    "To process the **Year** column with the format **2023–2024** (where the \"–\" is a special character different from the hyphen \"-\"), we will follow these steps:\n",
    "\n",
    "1. **Replace the \"–\" character**: First, we need to replace the \"–\" with a regular hyphen \"-\" (which is easier to handle in Python) to ensure that all values can be easily split.\n",
    "\n",
    "2. **Split the value into two parts**: After replacing the \"–\" character, if the **Year** column contains two years (e.g., \"2023-2024\"), we will split the value into two parts:\n",
    "   - The first year (the start year of the release).\n",
    "   - The second year (the end year of the release).\n",
    "   These two years will be converted into a tuple in the form of (start_year, end_year).\n",
    "\n",
    "3. **Handle cases with only one year**: If there is only one year (e.g., \"2023\"), we will assign that year to both the start and end years, and convert it into a tuple in the form of (year, year).\n",
    "\n",
    "This approach ensures that the **Year** column is consistently converted into a tuple format, regardless of whether it represents a single year or a range of years."
   ]
  },
  {
   "cell_type": "code",
   "execution_count": 13,
   "metadata": {},
   "outputs": [
    {
     "name": "stdout",
     "output_type": "stream",
     "text": [
      "0       (2023, None)\n",
      "1       (2023, 2024)\n",
      "2       (2007, 2021)\n",
      "3       (2019, 2022)\n",
      "4       (2024, None)\n",
      "            ...     \n",
      "1133    (2002, 2008)\n",
      "1134    (2006, None)\n",
      "1135    (2001, None)\n",
      "1136    (2016, None)\n",
      "1137    (2008, 2013)\n",
      "Name: Years, Length: 1138, dtype: object\n"
     ]
    }
   ],
   "source": [
    "def process_years(years):\n",
    "    # Replace the special character '–' with '-'\n",
    "    years = years.replace('–', '-')\n",
    "    \n",
    "    # Split the string by '-' and process the parts\n",
    "    parts = years.split('-')\n",
    "    year_start = int(parts[0]) if parts[0].isdigit() else None\n",
    "    year_end = int(parts[1]) if len(parts) > 1 and parts[1].isdigit() else None\n",
    "    \n",
    "    return (year_start, year_end)\n",
    "\n",
    "\n",
    "data['Years'] = data['Years'].apply(process_years)\n",
    "\n",
    "\n",
    "print(data['Years'])"
   ]
  },
  {
   "cell_type": "markdown",
   "metadata": {},
   "source": [
    "We will use a boxplot to visualize the distribution of values in the dataset and identify outliers. A boxplot is a powerful tool that helps display the following characteristics of the data:\n",
    "\n",
    "1. **Value Distribution**:  \n",
    "   - The range of the data is represented through elements such as the median, interquartile range (IQR), and the minimum and maximum values within the non-outlier range.\n",
    "\n",
    "2. **Outliers**:  \n",
    "   - Values that fall outside the main data range (IQR) are shown as individual points, making it easy to identify and analyze them. \n",
    "\n",
    "This approach helps in understanding the overall data distribution and detecting anomalies effectively."
   ]
  },
  {
   "cell_type": "code",
   "execution_count": 14,
   "metadata": {},
   "outputs": [
    {
     "data": {
      "image/png": "[encoded data removed]",
      "text/plain": [
       "<Figure size 1200x1000 with 4 Axes>"
      ]
     },
     "metadata": {},
     "output_type": "display_data"
    }
   ],
   "source": [
    "\n",
    "fig, axes = plt.subplots(2, 2, figsize=(12, 10))\n",
    "\n",
    "columns_to_plot = ['Runtime', 'Rating', 'Emmys', 'Number of Votes']\n",
    "\n",
    "# Vẽ boxplot cho từng cột vào từng subplot\n",
    "for i, column in enumerate(columns_to_plot):\n",
    "    row = i // 2  \n",
    "    col = i % 2   \n",
    "    sns.boxplot(data=data, x=column, ax=axes[row, col], color='skyblue')\n",
    "    axes[row, col].set_title(f\"Boxplot of {column}\")\n",
    "    axes[row, col].set_xlabel(column)\n",
    "    axes[row, col].set_ylabel(\"Values\")\n",
    "\n",
    "\n",
    "plt.tight_layout()\n",
    "plt.show()"
   ]
  },
  {
   "cell_type": "markdown",
   "metadata": {},
   "source": [
    "We will fill the NaN values with 0 before handling outliers. This ensures that missing values do not interfere with the outlier detection process and helps maintain consistency in the data during analysis."
   ]
  },
  {
   "cell_type": "code",
   "execution_count": 15,
   "metadata": {},
   "outputs": [],
   "source": [
    "data[['Rating', 'Emmys', 'Number of Votes']] = data[['Rating', 'Emmys', 'Number of Votes']].fillna(0)"
   ]
  },
  {
   "cell_type": "markdown",
   "metadata": {},
   "source": [
    "# Scale value of numeric columns"
   ]
  },
  {
   "cell_type": "code",
   "execution_count": 16,
   "metadata": {},
   "outputs": [
    {
     "name": "stdout",
     "output_type": "stream",
     "text": [
      "Column: Runtime\n",
      "Min: 0.0, Max: 276.0, Median: 44.0, Mean: 42.60456942003515\n",
      "----------------------------------------\n"
     ]
    },
    {
     "data": {
      "image/png": "[encoded data removed]",
      "text/plain": [
       "<Figure size 800x500 with 1 Axes>"
      ]
     },
     "metadata": {},
     "output_type": "display_data"
    },
    {
     "name": "stdout",
     "output_type": "stream",
     "text": [
      "Column: Rating\n",
      "Min: 1.2, Max: 9.5, Median: 7.9, Mean: 7.824077328646748\n",
      "----------------------------------------\n"
     ]
    },
    {
     "data": {
      "image/png": "[encoded data removed]",
      "text/plain": [
       "<Figure size 800x500 with 1 Axes>"
      ]
     },
     "metadata": {},
     "output_type": "display_data"
    },
    {
     "name": "stdout",
     "output_type": "stream",
     "text": [
      "Column: Number of Votes\n",
      "Min: 25000, Max: 2400000, Median: 53000.0, Mean: 105168.71704745168\n",
      "----------------------------------------\n"
     ]
    },
    {
     "data": {
      "image/png": "[encoded data removed]",
      "text/plain": [
       "<Figure size 800x500 with 1 Axes>"
      ]
     },
     "metadata": {},
     "output_type": "display_data"
    },
    {
     "name": "stdout",
     "output_type": "stream",
     "text": [
      "Column: Emmys\n",
      "Min: 0, Max: 95, Median: 0.0, Mean: 1.578207381370826\n",
      "----------------------------------------\n"
     ]
    },
    {
     "data": {
      "image/png": "[encoded data removed]",
      "text/plain": [
       "<Figure size 800x500 with 1 Axes>"
      ]
     },
     "metadata": {},
     "output_type": "display_data"
    }
   ],
   "source": [
    "\n",
    "d = data[['Runtime', 'Rating', 'Number of Votes', 'Emmys']]\n",
    "\n",
    "for column in d.columns:\n",
    "    # Tính Min, Max, Median, và Mean\n",
    "    min_val = d[column].min()\n",
    "    max_val = d[column].max()\n",
    "    median_val = d[column].median()\n",
    "    mean_val = d[column].mean()\n",
    "\n",
    "    \n",
    "    print(f\"Column: {column}\")\n",
    "    print(f\"Min: {min_val}, Max: {max_val}, Median: {median_val}, Mean: {mean_val}\")\n",
    "    print(\"-\" * 40)\n",
    "\n",
    "    \n",
    "    stats = {\n",
    "        'Min': min_val,\n",
    "        'Max': max_val,\n",
    "        'Median': median_val,\n",
    "        'Mean': mean_val\n",
    "    }\n",
    "\n",
    "    # Visualization\n",
    "    plt.figure(figsize=(8, 5))\n",
    "    plt.bar(stats.keys(), stats.values(), color=['skyblue', 'orange', 'green', 'purple'], edgecolor='black')\n",
    "    plt.title(f'Statistics for {column}', fontsize=14)\n",
    "    plt.xlabel('Metrics', fontsize=12)\n",
    "    plt.ylabel('Values', fontsize=12)\n",
    "    plt.tight_layout()\n",
    "\n",
    "   \n",
    "    plt.show()\n",
    "\n"
   ]
  },
  {
   "cell_type": "markdown",
   "metadata": {},
   "source": [
    "# Save data"
   ]
  },
  {
   "cell_type": "code",
   "execution_count": 17,
   "metadata": {},
   "outputs": [],
   "source": [
    "data.to_csv('data.csv', index=False)"
   ]
  }
 ],
 "metadata": {
  "kernelspec": {
   "display_name": "Python 3",
   "language": "python",
   "name": "python3"
  },
  "language_info": {
   "codemirror_mode": {
    "name": "ipython",
    "version": 3
   },
   "file_extension": ".py",
   "mimetype": "text/x-python",
   "name": "python",
   "nbconvert_exporter": "python",
   "pygments_lexer": "ipython3",
   "version": "3.12.2"
  }
 },
 "nbformat": 4,
 "nbformat_minor": 2
}
