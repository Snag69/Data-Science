{
 "cells": [
  {
   "cell_type": "code",
   "execution_count": null,
   "metadata": {},
   "outputs": [],
   "source": [
    "import numpy as np\n",
    "import pandas as pd"
   ]
  },
  {
   "cell_type": "markdown",
   "metadata": {},
   "source": [
    "# Xem dữ liệu"
   ]
  },
  {
   "cell_type": "code",
   "execution_count": null,
   "metadata": {},
   "outputs": [],
   "source": [
    "data = pd.read_csv('./tvshows.csv')\n",
    "data"
   ]
  },
  {
   "cell_type": "markdown",
   "metadata": {},
   "source": [
    "# Kiểm tra kiểu dữ liệu của từng cột"
   ]
  },
  {
   "cell_type": "code",
   "execution_count": null,
   "metadata": {},
   "outputs": [],
   "source": [
    "data.dtypes"
   ]
  },
  {
   "cell_type": "markdown",
   "metadata": {},
   "source": [
    "# Xem kích thước của tập dữ liệu"
   ]
  },
  {
   "cell_type": "code",
   "execution_count": null,
   "metadata": {},
   "outputs": [],
   "source": [
    "#kích thước của dữ liệu\n",
    "data.shape"
   ]
  },
  {
   "cell_type": "markdown",
   "metadata": {},
   "source": [
    "# Xem thử có dữ liệu nào hoàn toàn trùng nhau hay không"
   ]
  },
  {
   "cell_type": "code",
   "execution_count": null,
   "metadata": {},
   "outputs": [],
   "source": [
    "data[data.duplicated(keep=False)]"
   ]
  },
  {
   "cell_type": "markdown",
   "metadata": {},
   "source": [
    "Hoàn toàn không có 2 hàng nào hoàn toàn giống nhau"
   ]
  },
  {
   "cell_type": "markdown",
   "metadata": {},
   "source": [
    "# Xem thử trong từng cột có bao nhiêu ô còn để trống"
   ]
  },
  {
   "cell_type": "code",
   "execution_count": null,
   "metadata": {},
   "outputs": [],
   "source": [
    "data.isna().sum()"
   ]
  },
  {
   "cell_type": "code",
   "execution_count": null,
   "metadata": {},
   "outputs": [],
   "source": [
    "data"
   ]
  },
  {
   "cell_type": "markdown",
   "metadata": {},
   "source": [
    "# Chuyển data trong cột Runtime về dạng đo theo phút"
   ]
  },
  {
   "cell_type": "code",
   "execution_count": null,
   "metadata": {},
   "outputs": [],
   "source": [
    "new_col = []  # Khởi tạo new_col như một danh sách\n",
    "for val in data['Runtime']:\n",
    "    if isinstance(val, str):\n",
    "        if 'h' in val and 'm' in val:\n",
    "            hour, min = val.split('h')\n",
    "            min = min.split('m')[0]\n",
    "            new_col.append(int(hour) * 60 + int(min))\n",
    "        elif 'h' in val:  # Trường hợp chỉ có giờ\n",
    "            hour = val.split('h')[0]\n",
    "            new_col.append(int(hour) * 60)\n",
    "        elif 'm' in val:  # Trường hợp chỉ có phút\n",
    "            min = val.split('m')[0]\n",
    "            new_col.append(int(min))\n",
    "        elif pd.isna(val):\n",
    "            new_col.append(0)\n",
    "    else:\n",
    "        new_col.append(val)  # Nếu giá trị không phải là chuỗi thì thêm vào danh\n",
    "# print(new_col)\n",
    "data['Runtime'] = new_col\n",
    "# Convert the 'Runtime' column to integer type, filling any remaining NaN with 0 first\n",
    "data['Runtime'] = data['Runtime'].fillna(0).astype('int64')\n",
    "print(data['Runtime'])"
   ]
  },
  {
   "cell_type": "markdown",
   "metadata": {},
   "source": [
    "# Chuyển data trong cột Number of Votes về lại số nguyên"
   ]
  },
  {
   "cell_type": "code",
   "execution_count": null,
   "metadata": {},
   "outputs": [],
   "source": [
    "new_col = []\n",
    "for i in data['Number of Votes']:\n",
    "    if 'K' in i:\n",
    "        val = i.split('K')[0]\n",
    "        new_col.append(int(float(val)*(10**3)))\n",
    "    elif 'M' in i: \n",
    "        val = i.split('M')[0]\n",
    "        new_col.append(int(float(val)*(10**6)))\n",
    "data['Number of Votes'] = new_col\n",
    "data['Number of Votes']"
   ]
  },
  {
   "cell_type": "markdown",
   "metadata": {},
   "source": [
    "# Xử lý cột Actors\n",
    "Cột nào còn trống thì điền Unknow"
   ]
  },
  {
   "cell_type": "code",
   "execution_count": null,
   "metadata": {},
   "outputs": [],
   "source": [
    "new_col = []\n",
    "for i in data['Actors']:\n",
    "    if pd.isna(i):\n",
    "        new_col.append('Unknown')\n",
    "    else:\n",
    "        new_col.append(i.split(','))\n",
    "data['Actors'] = new_col\n"
   ]
  },
  {
   "cell_type": "code",
   "execution_count": null,
   "metadata": {},
   "outputs": [],
   "source": [
    "data['Actors']"
   ]
  },
  {
   "cell_type": "markdown",
   "metadata": {},
   "source": [
    "# Xử lý dữ liệu trong cột Years\n",
    "- Dấu '–' trong dữ liệu khác với '-' trong bàn phím\n",
    "- Các năm sẽ chuyển về dạng tuple: (năm đầu, năm cuối)\n",
    "- Nếu không có năm cuối thì sẽ là None"
   ]
  },
  {
   "cell_type": "code",
   "execution_count": null,
   "metadata": {},
   "outputs": [],
   "source": [
    "new_col = []\n",
    "for year in data['Years']:\n",
    "    if '–' in year:\n",
    "        first_year, second_year = year.split('–')\n",
    "        first_year = int(first_year)\n",
    "        if second_year == '':\n",
    "            second_year = None\n",
    "        else:\n",
    "            second_year = int(second_year)\n",
    "        # print(first_year, second_year)\n",
    "        new_col.append((first_year, second_year))\n",
    "new_col"
   ]
  },
  {
   "cell_type": "markdown",
   "metadata": {},
   "source": [
    "# Xử lý cột Genres"
   ]
  },
  {
   "cell_type": "code",
   "execution_count": null,
   "metadata": {},
   "outputs": [],
   "source": [
    "new_col = []\n",
    "for i in data['Genres']:\n",
    "    new_col.append(i.split(','))\n",
    "data['Genres'] = new_col"
   ]
  },
  {
   "cell_type": "markdown",
   "metadata": {},
   "source": [
    "# Xử lý cột Countries of origin"
   ]
  },
  {
   "cell_type": "code",
   "execution_count": null,
   "metadata": {},
   "outputs": [],
   "source": [
    "new_col = []\n",
    "for i in data['Coutries of origins']:\n",
    "    new_col.append(i.split(','))\n",
    "data['Coutries of origins'] = new_col"
   ]
  },
  {
   "cell_type": "markdown",
   "metadata": {},
   "source": [
    "# Xử lý cột languages"
   ]
  },
  {
   "cell_type": "code",
   "execution_count": null,
   "metadata": {},
   "outputs": [],
   "source": [
    "new_col = []\n",
    "for i in data['Languages']:\n",
    "    new_col.append(i.split(','))\n",
    "data['Languages'] = new_col"
   ]
  },
  {
   "cell_type": "markdown",
   "metadata": {},
   "source": [
    "# Xử lý cột Production companies\n",
    "Nếu còn trống thì điền Unknow"
   ]
  },
  {
   "cell_type": "code",
   "execution_count": null,
   "metadata": {},
   "outputs": [],
   "source": [
    "new_col = []\n",
    "for i in data['Production companies']:\n",
    "    if pd.isna(i):\n",
    "        new_col.append('Unknown')\n",
    "    else:\n",
    "        new_col.append(i.split(','))\n",
    "data['Production companies'] = new_col"
   ]
  },
  {
   "cell_type": "markdown",
   "metadata": {},
   "source": [
    "# Xử lý cột Creators\n",
    "Nếu còn trống thì điền Unknow"
   ]
  },
  {
   "cell_type": "code",
   "execution_count": null,
   "metadata": {},
   "outputs": [],
   "source": [
    "new_col = []\n",
    "for i in data['Creators']:\n",
    "    if pd.isna(i):\n",
    "        new_col.append('Unknown')\n",
    "    else:\n",
    "        new_col.append(i.split(','))\n",
    "data['Creators'] = new_col"
   ]
  }
 ],
 "metadata": {
  "kernelspec": {
   "display_name": "Python 3",
   "language": "python",
   "name": "python3"
  },
  "language_info": {
   "codemirror_mode": {
    "name": "ipython",
    "version": 3
   },
   "file_extension": ".py",
   "mimetype": "text/x-python",
   "name": "python",
   "nbconvert_exporter": "python",
   "pygments_lexer": "ipython3",
   "version": "3.12.2"
  }
 },
 "nbformat": 4,
 "nbformat_minor": 2
}
