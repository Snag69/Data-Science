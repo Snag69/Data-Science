{
 "cells": [
  {
   "cell_type": "markdown",
   "metadata": {},
   "source": [
    "# 3. Answer Question"
   ]
  },
  {
   "cell_type": "markdown",
   "metadata": {},
   "source": [
    "## 3.0. Import Necessary Libraries"
   ]
  },
  {
   "cell_type": "code",
   "execution_count": 1,
   "metadata": {},
   "outputs": [],
   "source": [
    "import numpy as np\n",
    "import pandas as pd\n",
    "import matplotlib.pyplot as plt\n",
    "import seaborn as sns"
   ]
  },
  {
   "cell_type": "markdown",
   "metadata": {},
   "source": [
    "## 3.1. Read data"
   ]
  },
  {
   "cell_type": "code",
   "execution_count": 2,
   "metadata": {},
   "outputs": [
    {
     "data": {
      "text/html": [
       "<div>\n",
       "<style scoped>\n",
       "    .dataframe tbody tr th:only-of-type {\n",
       "        vertical-align: middle;\n",
       "    }\n",
       "\n",
       "    .dataframe tbody tr th {\n",
       "        vertical-align: top;\n",
       "    }\n",
       "\n",
       "    .dataframe thead th {\n",
       "        text-align: right;\n",
       "    }\n",
       "</style>\n",
       "<table border=\"1\" class=\"dataframe\">\n",
       "  <thead>\n",
       "    <tr style=\"text-align: right;\">\n",
       "      <th></th>\n",
       "      <th>Title</th>\n",
       "      <th>Years</th>\n",
       "      <th>Certification</th>\n",
       "      <th>Runtime</th>\n",
       "      <th>Rating</th>\n",
       "      <th>Number of Votes</th>\n",
       "      <th>Emmys</th>\n",
       "      <th>Creators</th>\n",
       "      <th>Actors</th>\n",
       "      <th>Genres</th>\n",
       "      <th>Countries of origins</th>\n",
       "      <th>Languages</th>\n",
       "      <th>Production companies</th>\n",
       "      <th>Link</th>\n",
       "    </tr>\n",
       "  </thead>\n",
       "  <tbody>\n",
       "    <tr>\n",
       "      <th>0</th>\n",
       "      <td>Queen Cleopatra</td>\n",
       "      <td>(2023, None)</td>\n",
       "      <td>TV-14</td>\n",
       "      <td>45.0</td>\n",
       "      <td>1.2</td>\n",
       "      <td>86000</td>\n",
       "      <td>0</td>\n",
       "      <td>NaN</td>\n",
       "      <td>Jada Pinkett Smith, Adele James, Craig Russell...</td>\n",
       "      <td>Documentary, Drama, History</td>\n",
       "      <td>United Kingdom</td>\n",
       "      <td>English</td>\n",
       "      <td>Nutopia</td>\n",
       "      <td>https://www.imdb.com/title/tt27528139/?ref_=sr...</td>\n",
       "    </tr>\n",
       "    <tr>\n",
       "      <th>1</th>\n",
       "      <td>Velma</td>\n",
       "      <td>(2023, 2024)</td>\n",
       "      <td>TV-MA</td>\n",
       "      <td>25.0</td>\n",
       "      <td>1.6</td>\n",
       "      <td>80000</td>\n",
       "      <td>0</td>\n",
       "      <td>Charlie Grandy</td>\n",
       "      <td>Mindy Kaling, Glenn Howerton, Sam Richardson, ...</td>\n",
       "      <td>Animation, Adventure, Comedy, Crime, Horror, M...</td>\n",
       "      <td>United States, South Korea</td>\n",
       "      <td>English</td>\n",
       "      <td>Charlie Grandy Productions, Kaling Internation...</td>\n",
       "      <td>https://www.imdb.com/title/tt14153790/?ref_=sr...</td>\n",
       "    </tr>\n",
       "    <tr>\n",
       "      <th>2</th>\n",
       "      <td>Keeping Up with the Kardashians</td>\n",
       "      <td>(2007, 2021)</td>\n",
       "      <td>TV-14</td>\n",
       "      <td>44.0</td>\n",
       "      <td>2.9</td>\n",
       "      <td>32000</td>\n",
       "      <td>0</td>\n",
       "      <td>Ryan Seacrest, Eliot Goldberg</td>\n",
       "      <td>Khloé Kardashian, Kim Kardashian, Kourtney Kar...</td>\n",
       "      <td>Family, Reality-TV</td>\n",
       "      <td>United States</td>\n",
       "      <td>English, Spanish</td>\n",
       "      <td>Bunim-Murray Productions (BMP), Ryan Seacrest ...</td>\n",
       "      <td>https://www.imdb.com/title/tt1086761/?ref_=sr_...</td>\n",
       "    </tr>\n",
       "    <tr>\n",
       "      <th>3</th>\n",
       "      <td>Batwoman</td>\n",
       "      <td>(2019, 2022)</td>\n",
       "      <td>TV-14</td>\n",
       "      <td>45.0</td>\n",
       "      <td>3.6</td>\n",
       "      <td>47000</td>\n",
       "      <td>0</td>\n",
       "      <td>Caroline Dries</td>\n",
       "      <td>Camrus Johnson, Rachel Skarsten, Meagan Tandy,...</td>\n",
       "      <td>Action, Adventure, Crime, Drama, Sci-Fi</td>\n",
       "      <td>United States</td>\n",
       "      <td>English</td>\n",
       "      <td>Berlanti Productions, DC Entertainment, Warner...</td>\n",
       "      <td>https://www.imdb.com/title/tt8712204/?ref_=sr_...</td>\n",
       "    </tr>\n",
       "    <tr>\n",
       "      <th>4</th>\n",
       "      <td>The Acolyte</td>\n",
       "      <td>(2024, None)</td>\n",
       "      <td>TV-14</td>\n",
       "      <td>35.0</td>\n",
       "      <td>4.1</td>\n",
       "      <td>125000</td>\n",
       "      <td>0</td>\n",
       "      <td>Leslye Headland</td>\n",
       "      <td>Lee Jung-jae, Amandla Stenberg, Manny Jacinto,...</td>\n",
       "      <td>Action, Adventure, Drama, Fantasy, Mystery, Sc...</td>\n",
       "      <td>United States</td>\n",
       "      <td>English</td>\n",
       "      <td>Lucasfilm, Disney+, The Walt Disney Company</td>\n",
       "      <td>https://www.imdb.com/title/tt12262202/?ref_=sr...</td>\n",
       "    </tr>\n",
       "  </tbody>\n",
       "</table>\n",
       "</div>"
      ],
      "text/plain": [
       "                             Title         Years Certification  Runtime  \\\n",
       "0                  Queen Cleopatra  (2023, None)         TV-14     45.0   \n",
       "1                            Velma  (2023, 2024)         TV-MA     25.0   \n",
       "2  Keeping Up with the Kardashians  (2007, 2021)         TV-14     44.0   \n",
       "3                         Batwoman  (2019, 2022)         TV-14     45.0   \n",
       "4                      The Acolyte  (2024, None)         TV-14     35.0   \n",
       "\n",
       "   Rating  Number of Votes  Emmys                       Creators  \\\n",
       "0     1.2            86000      0                            NaN   \n",
       "1     1.6            80000      0                 Charlie Grandy   \n",
       "2     2.9            32000      0  Ryan Seacrest, Eliot Goldberg   \n",
       "3     3.6            47000      0                 Caroline Dries   \n",
       "4     4.1           125000      0                Leslye Headland   \n",
       "\n",
       "                                              Actors  \\\n",
       "0  Jada Pinkett Smith, Adele James, Craig Russell...   \n",
       "1  Mindy Kaling, Glenn Howerton, Sam Richardson, ...   \n",
       "2  Khloé Kardashian, Kim Kardashian, Kourtney Kar...   \n",
       "3  Camrus Johnson, Rachel Skarsten, Meagan Tandy,...   \n",
       "4  Lee Jung-jae, Amandla Stenberg, Manny Jacinto,...   \n",
       "\n",
       "                                              Genres  \\\n",
       "0                        Documentary, Drama, History   \n",
       "1  Animation, Adventure, Comedy, Crime, Horror, M...   \n",
       "2                                 Family, Reality-TV   \n",
       "3            Action, Adventure, Crime, Drama, Sci-Fi   \n",
       "4  Action, Adventure, Drama, Fantasy, Mystery, Sc...   \n",
       "\n",
       "         Countries of origins         Languages  \\\n",
       "0              United Kingdom           English   \n",
       "1  United States, South Korea           English   \n",
       "2               United States  English, Spanish   \n",
       "3               United States           English   \n",
       "4               United States           English   \n",
       "\n",
       "                                Production companies  \\\n",
       "0                                            Nutopia   \n",
       "1  Charlie Grandy Productions, Kaling Internation...   \n",
       "2  Bunim-Murray Productions (BMP), Ryan Seacrest ...   \n",
       "3  Berlanti Productions, DC Entertainment, Warner...   \n",
       "4        Lucasfilm, Disney+, The Walt Disney Company   \n",
       "\n",
       "                                                Link  \n",
       "0  https://www.imdb.com/title/tt27528139/?ref_=sr...  \n",
       "1  https://www.imdb.com/title/tt14153790/?ref_=sr...  \n",
       "2  https://www.imdb.com/title/tt1086761/?ref_=sr_...  \n",
       "3  https://www.imdb.com/title/tt8712204/?ref_=sr_...  \n",
       "4  https://www.imdb.com/title/tt12262202/?ref_=sr...  "
      ]
     },
     "execution_count": 2,
     "metadata": {},
     "output_type": "execute_result"
    }
   ],
   "source": [
    "data_path = './data/tvshows.csv'\n",
    "df = pd.read_csv(data_path)\n",
    "df.head()"
   ]
  },
  {
   "cell_type": "markdown",
   "metadata": {},
   "source": [
    "## 3.2. Asking meaningful question"
   ]
  },
  {
   "cell_type": "markdown",
   "metadata": {},
   "source": [
    "| **No.** | **What is the question?**                                         | **What are benefits of finding the answer?**                                                                 | **How to find the answers of questions by using df**                                                                                   |\n",
    "|---------|-------------------------------------------------------------------|------------------------------------------------------------------------------------------------------------|---------------------------------------------------------------------------------------------------------------------------------------|\n",
    "| 1       | **What is the best TV Shows?**                                    | Identifying the best TV shows helps understand what factors contribute to success, like runtime, ratings, etc. | Use [*Min-Max Normalization method*](https://en.wikipedia.org/wiki/Feature_scaling#Rescaling_(min-max_normalization)) for features like runtime, votes, and Emmys to standardize the df and calculate a composite score.          |"
   ]
  },
  {
   "cell_type": "markdown",
   "metadata": {},
   "source": [
    "### 3.2.1. Question 1: What is the best TVShows?"
   ]
  },
  {
   "cell_type": "markdown",
   "metadata": {},
   "source": [
    "To determine the \"best\" TV shows, we need to consider multiple factors that can influence a show's popularity and overall reception. Commonly, metrics such as **Runtime**, **Rating**, **Number of Votes**, and **Awards** (e.g., Emmys) play a significant role in evaluating the success of a TV show. However, these metrics often have different scales. For instance, the **Runtime** of a TV show can range from 30 minutes to several hours, while the **Number of Votes** can vary from a few thousand to millions. Therefore, to make a meaningful comparison across these different metrics, we need to **normalize** the data, so that all values fall within the same range, typically between **0** and **1**.\n",
    "\n",
    "In this approach, we use the [*Min-Max Normalization method*](https://en.wikipedia.org/wiki/Feature_scaling#Rescaling_(min-max_normalization)) method, which adjusts the values of each variable by rescaling them within a predefined range (usually **0** to **1**). The formula for this method is as follows:\n",
    "\n",
    "```math\n",
    "X_{\\text{norm}} = \\frac{X - X_{\\text{min}}}{X_{\\text{max}} - X_{\\text{min}}}\n"
   ]
  },
  {
   "cell_type": "markdown",
   "metadata": {},
   "source": [
    "Where:\n",
    "- **`X`** is the current value,\n",
    "- **`X_min`** is the minimum value in the dataset,\n",
    "- **`X_max`** is the maximum value in the dataset,\n",
    "- **`X_norm`** is the normalized value, scaled between 0 and 1.\n",
    "\n",
    "This transformation ensures that each metric (such as **Runtime**, **Votes**, and **Emmys**) is adjusted proportionally, allowing for a more balanced comparison. For example, a TV show with a higher number of votes will now be treated on the same scale as a show with a higher runtime.\n",
    "\n",
    "By applying this normalization process, we can directly compare the various metrics across TV shows, making it easier to evaluate their success and popularity in a consistent and standardized way."
   ]
  },
  {
   "cell_type": "markdown",
   "metadata": {},
   "source": [
    "#### Step 1: Normalize the Metrics"
   ]
  },
  {
   "cell_type": "markdown",
   "metadata": {},
   "source": [
    "We begin by normalizing the **Runtime**, **Number of Votes**, and **Emmys**. Although the **Rating** could also be considered for normalization, in this case, it has been excluded for simplicity. By applying the **Min-Max Normalization** formula to each of these metrics, we create new columns (`Runtime_norm`, `Votes_norm`, `Emmys_norm`) that represent each feature on the same scale.\n"
   ]
  },
  {
   "cell_type": "code",
   "execution_count": 3,
   "metadata": {},
   "outputs": [],
   "source": [
    "# Min-Max Normalization\n",
    "# For each column, apply the formula: (x - min) / (max - min)\n",
    "df['Runtime_norm'] = (df['Runtime'] - df['Runtime'].min()) / (df['Runtime'].max() - df['Runtime'].min())\n",
    "# df['Rating_norm'] = (df['Rating'] - df['Rating'].min()) / (df['Rating'].max() - df['Rating'].min())\n",
    "df['Votes_norm'] = (df['Number of Votes'] - df['Number of Votes'].min()) / (df['Number of Votes'].max() - df['Number of Votes'].min())\n",
    "df['Emmys_norm'] = (df['Emmys'] - df['Emmys'].min()) / (df['Emmys'].max() - df['Emmys'].min())"
   ]
  },
  {
   "cell_type": "markdown",
   "metadata": {},
   "source": [
    "#### Step 2: Define Weights and Calculate the Composite Score"
   ]
  },
  {
   "cell_type": "markdown",
   "metadata": {},
   "source": [
    "Next, we assign weights to each of these normalized metrics to reflect their relative importance. In this case, we assign equal weights to **Runtime**, **Votes**, and **Emmys**. This means each of these factors will contribute one-third to the overall **Composite Score** of a TV show. The **Rating** could be included in the calculation as well, but it has been excluded for simplicity in this example.\n",
    "\n",
    "The **Composite Score** for each TV show is calculated by multiplying each normalized metric by its respective weight, and summing the results:"
   ]
  },
  {
   "cell_type": "code",
   "execution_count": 4,
   "metadata": {},
   "outputs": [],
   "source": [
    "# Define weights for each metric\n",
    "runtime_weight = 1/3\n",
    "# rating_weight = 1/4\n",
    "votes_weight = 1/3\n",
    "emmys_weight = 1/3\n",
    "\n",
    "# Calculate Composite Score for each TV show\n",
    "df['Composite Score'] = (\n",
    "    df['Runtime_norm'] *runtime_weight +\n",
    "    # df['Rating_norm'] * rating_weight +\n",
    "    df['Votes_norm'] * votes_weight +\n",
    "    df['Emmys_norm'] * emmys_weight\n",
    ")"
   ]
  },
  {
   "cell_type": "markdown",
   "metadata": {},
   "source": [
    "#### Step 3: Visualize the Distribution of Composite Scores"
   ]
  },
  {
   "cell_type": "markdown",
   "metadata": {},
   "source": [
    "Once we calculate the **Composite Score**, we can visualize its distribution across all TV shows. A **histogram** can provide a clear view of how the scores are spread out, helping us to see if there are a few shows with exceptionally high scores or if the scores are distributed more evenly."
   ]
  },
  {
   "cell_type": "code",
   "execution_count": 5,
   "metadata": {},
   "outputs": [
    {
     "data": {
      "image/png": "[encoded data removed]",
      "text/plain": [
       "<Figure size 640x480 with 1 Axes>"
      ]
     },
     "metadata": {},
     "output_type": "display_data"
    }
   ],
   "source": [
    "# Plot histogram of composite scores\n",
    "plt.hist(df['Composite Score'], bins=10, color='blue', edgecolor='black', alpha=0.7)\n",
    "plt.title('Distribution of Composite Scores')\n",
    "plt.xlabel('Composite Score')\n",
    "plt.ylabel('Frequency')\n",
    "plt.show()"
   ]
  },
  {
   "cell_type": "markdown",
   "metadata": {},
   "source": [
    "#### Step 4: Identify the Top TV Shows"
   ]
  },
  {
   "cell_type": "markdown",
   "metadata": {},
   "source": [
    "Finally, we sort the data by the **Composite Score** and identify the top 10 TV shows. These are the shows that have the highest combined scores across the **Runtime**, **Votes**, and **Emmys**, according to the weights we assigned."
   ]
  },
  {
   "cell_type": "code",
   "execution_count": 6,
   "metadata": {},
   "outputs": [
    {
     "name": "stdout",
     "output_type": "stream",
     "text": [
      "Top 10 shows:\n",
      "                    Title  Composite Score\n",
      "1126      Game of Thrones         0.612815\n",
      "617   Saturday Night Live         0.446099\n",
      "1137         Breaking Bad         0.415751\n",
      "6                The Idol         0.349193\n",
      "124                  Dune         0.327066\n",
      "1049      Stranger Things         0.307551\n",
      "1115             Sherlock         0.277117\n",
      "1132            Chernobyl         0.230920\n",
      "1043         The Simpsons         0.215202\n",
      "1125         The Sopranos         0.212253\n"
     ]
    }
   ],
   "source": [
    "# Get top 10 shows with the highest composite scores\n",
    "top_shows = df.nlargest(10, 'Composite Score')[['Title', 'Composite Score']]\n",
    "print(\"Top 10 shows:\")\n",
    "print(top_shows)"
   ]
  },
  {
   "cell_type": "markdown",
   "metadata": {},
   "source": [
    "#### Conclusion:"
   ]
  },
  {
   "cell_type": "markdown",
   "metadata": {},
   "source": [
    "By following these steps, we can identify the best TV shows based on a balanced combination of multiple success metrics. These metrics are normalized to ensure a fair comparison, and by using a weighted **composite score**, we can determine which shows stand out the most in terms of audience engagement and critical recognition.\n",
    "\n",
    "This approach helps content creators, marketers, and viewers alike to make data-driven decisions about what shows are most successful, based on multiple factors like **runtime**, **viewer votes**, and **award recognition**."
   ]
  }
 ],
 "metadata": {
  "kernelspec": {
   "display_name": "Python 3",
   "language": "python",
   "name": "python3"
  },
  "language_info": {
   "codemirror_mode": {
    "name": "ipython",
    "version": 3
   },
   "file_extension": ".py",
   "mimetype": "text/x-python",
   "name": "python",
   "nbconvert_exporter": "python",
   "pygments_lexer": "ipython3",
   "version": "3.12.6"
  }
 },
 "nbformat": 4,
 "nbformat_minor": 2
}
